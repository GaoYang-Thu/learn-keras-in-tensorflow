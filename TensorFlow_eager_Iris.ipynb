{
 "cells": [
  {
   "cell_type": "markdown",
   "metadata": {},
   "source": [
    "# An Implemetation of TensorFlow Eager Execution [Tutorial](www.tensorflow.org/get_started/eager)"
   ]
  },
  {
   "cell_type": "markdown",
   "metadata": {},
   "source": [
    "## What does eager execution do?\n",
    "Eager execution makes TensorFlow evaluate operations immediately, returns concrete values instead of creating a computational graph.  \n",
    "Using computational graphs is messy, in my opinion."
   ]
  },
  {
   "cell_type": "markdown",
   "metadata": {},
   "source": [
    "## Let's set up the eager mode"
   ]
  },
  {
   "cell_type": "code",
   "execution_count": 1,
   "metadata": {
    "scrolled": true
   },
   "outputs": [
    {
     "name": "stderr",
     "output_type": "stream",
     "text": [
      "/Users/Yang/anaconda3/lib/python3.6/site-packages/h5py/__init__.py:36: FutureWarning: Conversion of the second argument of issubdtype from `float` to `np.floating` is deprecated. In future, it will be treated as `np.float64 == np.dtype(float).type`.\n",
      "  from ._conv import register_converters as _register_converters\n"
     ]
    },
    {
     "name": "stdout",
     "output_type": "stream",
     "text": [
      "TensorFlow version : 1.8.0\n",
      "Eager execution: True\n"
     ]
    }
   ],
   "source": [
    "from __future__ import absolute_import, division, print_function\n",
    "\n",
    "import os\n",
    "import matplotlib.pyplot as plt\n",
    "\n",
    "import tensorflow as tf\n",
    "import tensorflow.contrib.eager as tfe\n",
    "\n",
    "tfe.enable_eager_execution()\n",
    "\n",
    "print(\"TensorFlow version : {}\".format(tf.VERSION))\n",
    "print(\"Eager execution: {}\".format(tf.executing_eagerly()))"
   ]
  },
  {
   "cell_type": "markdown",
   "metadata": {},
   "source": [
    "##  Now let's solve the Iris classification problem"
   ]
  },
  {
   "cell_type": "markdown",
   "metadata": {},
   "source": [
    "### 1 Import the dataset"
   ]
  },
  {
   "cell_type": "markdown",
   "metadata": {},
   "source": [
    "##### 1.1 Download"
   ]
  },
  {
   "cell_type": "code",
   "execution_count": 7,
   "metadata": {
    "scrolled": true
   },
   "outputs": [
    {
     "name": "stdout",
     "output_type": "stream",
     "text": [
      "local copy of the csv: /Users/Yang/Documents/iris_training.csv\n"
     ]
    }
   ],
   "source": [
    "# train_dataset_url = \"http://download.tensorflow.org/data/iris_training.csv\"\n",
    "\n",
    "# train_dataset_fp = tf.keras.utils.get_file(fname = os.path.basename(train_dataset_url),\n",
    "#                                           origin = train_dataset_url)\n",
    "# directly downloaded from tensorflow.org\n",
    "train_dataset_filepath = '/Users/Yang/Documents/iris_training.csv'\n",
    "print(\"local copy of the csv: {}\".format(train_dataset_filepath))"
   ]
  },
  {
   "cell_type": "markdown",
   "metadata": {},
   "source": [
    "##### 1.2 Inspect"
   ]
  },
  {
   "cell_type": "code",
   "execution_count": 8,
   "metadata": {},
   "outputs": [
    {
     "name": "stdout",
     "output_type": "stream",
     "text": [
      "120,4,setosa,versicolor,virginica\r\n",
      "6.4,2.8,5.6,2.2,2\r\n",
      "5.0,2.3,3.3,1.0,1\r\n",
      "4.9,2.5,4.5,1.7,2\r\n",
      "4.9,3.1,1.5,0.1,0\r\n"
     ]
    }
   ],
   "source": [
    "!head -n5 {train_dataset_filepath}"
   ]
  },
  {
   "cell_type": "markdown",
   "metadata": {},
   "source": [
    "##### 1.3 Parse"
   ]
  },
  {
   "cell_type": "markdown",
   "metadata": {},
   "source": [
    "Purpose: parse the features and label values into a format that Python model can use."
   ]
  },
  {
   "cell_type": "code",
   "execution_count": 6,
   "metadata": {},
   "outputs": [],
   "source": [
    "def parse_csv(line):\n",
    "    example_defaults = [[0.],[0.],[0.],[0.],[0]]\n",
    "    parse_line = tf.decode_csv(line, example_defaults)\n",
    "    features = tf.reshape(parse_line[:-1], shape = (4,))\n",
    "    label = tf.reshape(parse_line[-1], shape = ())\n",
    "    return features, label"
   ]
  },
  {
   "cell_type": "markdown",
   "metadata": {},
   "source": [
    "##### 1.4 Create training tf.data.Dataset"
   ]
  },
  {
   "cell_type": "code",
   "execution_count": 26,
   "metadata": {},
   "outputs": [
    {
     "name": "stdout",
     "output_type": "stream",
     "text": [
      "example feature:  tf.Tensor([7.2 3.  5.8 1.6], shape=(4,), dtype=float32)\n",
      "example label:  tf.Tensor(2, shape=(), dtype=int32)\n"
     ]
    }
   ],
   "source": [
    "train_dataset = tf.data.TextLineDataset(train_dataset_filepath) # what format?\n",
    "train_dataset = train_dataset.skip(1) # skip header row\n",
    "train_dataset = train_dataset.map(parse_csv) # parse each line. (how?)\n",
    "train_dataset = train_dataset.shuffle(buffer_size = 1000) # shuffle \n",
    "train_dataset = train_dataset.batch(32) # create batch\n",
    "\n",
    "features, label = iter(train_dataset).next()\n",
    "print(\"example feature: \", features[1])\n",
    "print(\"example label: \",label[1])"
   ]
  },
  {
   "cell_type": "code",
   "execution_count": 23,
   "metadata": {},
   "outputs": [
    {
     "name": "stdout",
     "output_type": "stream",
     "text": [
      "<BatchDataset shapes: ((?, 4), (?,)), types: (tf.float32, tf.int32)>\n"
     ]
    }
   ],
   "source": [
    "print(train_dataset)"
   ]
  },
  {
   "cell_type": "markdown",
   "metadata": {},
   "source": [
    "### 2 Select the type of model"
   ]
  },
  {
   "cell_type": "markdown",
   "metadata": {},
   "source": [
    "##### 2.0 What is a model?\n",
    "A model is the _relationship_ between features and the label. How philosophical!  \n",
    "\n",
    "Our features:\n",
    "* sepal length\n",
    "* sepal width\n",
    "* petal length\n",
    "* petal width  \n",
    "\n",
    "Our label:\n",
    "* 0, 1, or 2"
   ]
  },
  {
   "cell_type": "markdown",
   "metadata": {},
   "source": [
    "##### 2.1 Select a model\n",
    "We choose a fully connected neural network with 2 hidden layers."
   ]
  },
  {
   "cell_type": "markdown",
   "metadata": {},
   "source": [
    "##### 2.2 Create the model using Keras"
   ]
  },
  {
   "cell_type": "code",
   "execution_count": 54,
   "metadata": {},
   "outputs": [],
   "source": [
    "# try your best to construct the model independently :P\n",
    "\n",
    "model = tf.keras.Sequential([\n",
    "    tf.keras.layers.Dense(10, activation = 'relu', input_shape = (4,)),\n",
    "    tf.keras.layers.Dense(10, activation = 'relu'),\n",
    "    tf.keras.layers.Dense(3)\n",
    "])"
   ]
  },
  {
   "cell_type": "code",
   "execution_count": 31,
   "metadata": {
    "collapsed": true
   },
   "outputs": [
    {
     "name": "stdout",
     "output_type": "stream",
     "text": [
      "[<tf.Variable 'dense_3/kernel:0' shape=(4, 10) dtype=float32, numpy=\n",
      "array([[ 0.5381404 ,  0.18437058, -0.01535481,  0.2799598 ,  0.56598306,\n",
      "         0.17062527, -0.60801584, -0.48325843, -0.42263946, -0.54941314],\n",
      "       [-0.43457735, -0.6414499 , -0.1040563 , -0.07607806, -0.06715333,\n",
      "        -0.04583162, -0.0518291 ,  0.14967448, -0.08538568, -0.62853265],\n",
      "       [-0.64046896,  0.58321047,  0.11024261,  0.33452123,  0.39841628,\n",
      "        -0.02003199, -0.22981626,  0.05149239, -0.32473025, -0.4023718 ],\n",
      "       [ 0.10289353,  0.02996922, -0.02211159,  0.20018435,  0.08619076,\n",
      "         0.05010343, -0.13881052,  0.583742  , -0.27357623,  0.6040765 ]],\n",
      "      dtype=float32)>, <tf.Variable 'dense_3/bias:0' shape=(10,) dtype=float32, numpy=array([0., 0., 0., 0., 0., 0., 0., 0., 0., 0.], dtype=float32)>, <tf.Variable 'dense_4/kernel:0' shape=(10, 10) dtype=float32, numpy=\n",
      "array([[ 0.5101551 , -0.3347029 ,  0.40614772,  0.4989996 ,  0.5229714 ,\n",
      "         0.22498721, -0.37687427, -0.4771697 ,  0.04270715,  0.38048327],\n",
      "       [-0.33843982,  0.27888876,  0.23324877,  0.01560599, -0.47820604,\n",
      "         0.52980363,  0.4761442 ,  0.08415496, -0.4110903 , -0.5143566 ],\n",
      "       [-0.5031595 , -0.11835408,  0.5177164 ,  0.10396796,  0.17975909,\n",
      "        -0.4948153 , -0.30260748,  0.47281253,  0.3690073 , -0.21461725],\n",
      "       [ 0.49061787,  0.51005197, -0.46871245,  0.04054147, -0.18035457,\n",
      "        -0.1812709 , -0.19412851,  0.53888917,  0.13483733, -0.1822918 ],\n",
      "       [-0.22708482,  0.1791597 , -0.33915567,  0.28960973, -0.34201515,\n",
      "         0.437908  ,  0.12856442, -0.14738977, -0.15002254, -0.5271777 ],\n",
      "       [-0.41360164,  0.03618675, -0.5062533 , -0.20194206,  0.40376568,\n",
      "         0.29903436,  0.28614718,  0.31703472,  0.37265575, -0.47497845],\n",
      "       [ 0.08903319,  0.03810209,  0.00429803, -0.42112583, -0.02944535,\n",
      "         0.14033896, -0.04490411,  0.32265663, -0.02782083,  0.31394935],\n",
      "       [ 0.45674908,  0.02658832, -0.24455255, -0.22624058,  0.31799364,\n",
      "        -0.34769583, -0.01186174,  0.4369449 , -0.29251686, -0.5297056 ],\n",
      "       [-0.4266627 , -0.15036443,  0.07818431,  0.19909161,  0.36063457,\n",
      "         0.4106903 , -0.46624723,  0.15733153, -0.41613138, -0.18622303],\n",
      "       [-0.45363563, -0.06939733, -0.39176393,  0.18937838, -0.02189267,\n",
      "         0.06014746, -0.06869906,  0.28757292,  0.52773714, -0.30478734]],\n",
      "      dtype=float32)>, <tf.Variable 'dense_4/bias:0' shape=(10,) dtype=float32, numpy=array([0., 0., 0., 0., 0., 0., 0., 0., 0., 0.], dtype=float32)>, <tf.Variable 'dense_5/kernel:0' shape=(10, 3) dtype=float32, numpy=\n",
      "array([[-0.45765865, -0.2952162 ,  0.2648962 ],\n",
      "       [-0.5654347 , -0.28054675,  0.2089324 ],\n",
      "       [ 0.2580164 , -0.21008924,  0.43495655],\n",
      "       [-0.18936357, -0.5680664 ,  0.08133858],\n",
      "       [ 0.5291146 ,  0.00531632, -0.14020318],\n",
      "       [ 0.61322844, -0.14088023, -0.00493354],\n",
      "       [-0.16807348, -0.56046534,  0.10355681],\n",
      "       [ 0.51618636,  0.05391335, -0.37072843],\n",
      "       [-0.5781299 ,  0.11966217, -0.4602627 ],\n",
      "       [-0.4521721 ,  0.05654806,  0.5136001 ]], dtype=float32)>, <tf.Variable 'dense_5/bias:0' shape=(3,) dtype=float32, numpy=array([0., 0., 0.], dtype=float32)>]\n"
     ]
    }
   ],
   "source": [
    "# print out the variables of this model\n",
    "print(model.variables)"
   ]
  },
  {
   "cell_type": "markdown",
   "metadata": {},
   "source": [
    "### 3 Train the model\n",
    "\n",
    "Purpose: to learn enough about the structures of training dataset to make predictions"
   ]
  },
  {
   "cell_type": "markdown",
   "metadata": {},
   "source": [
    "##### 3.1 Define loss and gradient function"
   ]
  },
  {
   "cell_type": "code",
   "execution_count": 35,
   "metadata": {},
   "outputs": [],
   "source": [
    "def loss(model, x, y):\n",
    "    y_ = model(x) # predicted label\n",
    "    return tf.losses.sparse_softmax_cross_entropy(labels = y, logits = y_)\n",
    "\n",
    "def grad(model, inputs, targets):\n",
    "    \n",
    "    # grad is the amount that variables of model should change\n",
    "    with tf.GradientTape() as tape:\n",
    "        loss_value = loss(model, inputs, targets)\n",
    "    return tape.gradient(loss_value, model.variables)"
   ]
  },
  {
   "cell_type": "code",
   "execution_count": 63,
   "metadata": {
    "scrolled": true
   },
   "outputs": [
    {
     "name": "stdout",
     "output_type": "stream",
     "text": [
      "tf.Tensor(\n",
      "[[5.7 3.  4.2 1.2]\n",
      " [7.7 2.8 6.7 2. ]\n",
      " [6.8 3.2 5.9 2.3]\n",
      " [6.2 3.4 5.4 2.3]\n",
      " [6.3 3.3 4.7 1.6]\n",
      " [5.7 2.8 4.1 1.3]\n",
      " [4.4 3.  1.3 0.2]\n",
      " [6.7 3.  5.2 2.3]\n",
      " [6.9 3.1 5.1 2.3]\n",
      " [7.7 2.6 6.9 2.3]\n",
      " [6.1 3.  4.9 1.8]\n",
      " [6.4 2.8 5.6 2.2]\n",
      " [5.1 2.5 3.  1.1]\n",
      " [5.  3.4 1.6 0.4]\n",
      " [4.7 3.2 1.6 0.2]\n",
      " [5.4 3.  4.5 1.5]\n",
      " [6.2 2.2 4.5 1.5]\n",
      " [5.  3.5 1.6 0.6]\n",
      " [7.  3.2 4.7 1.4]\n",
      " [5.1 3.8 1.9 0.4]\n",
      " [4.8 3.  1.4 0.3]\n",
      " [5.1 3.8 1.5 0.3]\n",
      " [6.  2.2 5.  1.5]\n",
      " [5.8 2.7 5.1 1.9]\n",
      " [5.7 2.9 4.2 1.3]\n",
      " [4.9 3.  1.4 0.2]\n",
      " [5.2 2.7 3.9 1.4]\n",
      " [6.3 3.4 5.6 2.4]\n",
      " [4.6 3.4 1.4 0.3]\n",
      " [4.9 3.1 1.5 0.1]\n",
      " [5.6 2.9 3.6 1.3]\n",
      " [5.8 2.8 5.1 2.4]], shape=(32, 4), dtype=float32)\n",
      "tf.Tensor([1 2 2 2 1 1 0 2 2 2 2 2 1 0 0 1 1 0 1 0 0 0 2 2 1 0 1 2 0 0 1 2], shape=(32,), dtype=int32)\n",
      "[<tf.Tensor: id=535081, shape=(4, 10), dtype=float32, numpy=\n",
      "array([[-0.06764118,  0.19622953,  0.43736628,  0.        ,  0.04959953,\n",
      "         0.        ,  0.        , -0.37953776,  0.        ,  0.15018803],\n",
      "       [-0.02845677,  0.08070314,  0.17799717,  0.        ,  0.01844023,\n",
      "         0.        ,  0.        , -0.15733072,  0.        ,  0.06240708],\n",
      "       [-0.0529954 ,  0.16305195,  0.36920324,  0.        ,  0.04419414,\n",
      "         0.        ,  0.        , -0.31336552,  0.        ,  0.12432636],\n",
      "       [-0.0221205 ,  0.07587873,  0.17526428,  0.        ,  0.02019448,\n",
      "         0.        ,  0.        , -0.14629997,  0.        ,  0.06098619]],\n",
      "      dtype=float32)>, <tf.Tensor: id=535079, shape=(10,), dtype=float32, numpy=\n",
      "array([-0.01092404,  0.0264734 ,  0.05651718,  0.        ,  0.00683791,\n",
      "        0.        ,  0.        , -0.05095116,  0.        ,  0.0210941 ],\n",
      "      dtype=float32)>, <tf.Tensor: id=535077, shape=(10, 10), dtype=float32, numpy=\n",
      "array([[ 0.        , -0.01876196,  0.00391591, -0.2220387 , -0.20863996,\n",
      "         0.        ,  0.00549183, -0.19860062,  0.3098675 ,  0.        ],\n",
      "       [ 0.        , -0.00085754,  0.00178886, -0.02317717, -0.01996274,\n",
      "         0.        ,  0.00141519, -0.02089744,  0.02706439,  0.        ],\n",
      "       [ 0.        , -0.00548221,  0.00450442, -0.0691513 , -0.06336743,\n",
      "         0.        ,  0.00291983, -0.06695832,  0.08891861,  0.        ],\n",
      "       [ 0.        ,  0.        ,  0.        ,  0.        ,  0.        ,\n",
      "         0.        ,  0.        ,  0.        ,  0.        ,  0.        ],\n",
      "       [ 0.        , -0.01064077,  0.00391113, -0.14093521, -0.13045043,\n",
      "         0.        ,  0.00438311, -0.12612353,  0.19105534,  0.        ],\n",
      "       [ 0.        ,  0.        ,  0.        ,  0.        ,  0.        ,\n",
      "         0.        ,  0.        ,  0.        ,  0.        ,  0.        ],\n",
      "       [ 0.        ,  0.        ,  0.        ,  0.        ,  0.        ,\n",
      "         0.        ,  0.        ,  0.        ,  0.        ,  0.        ],\n",
      "       [ 0.        , -0.0133458 ,  0.00082424, -0.16270807, -0.153185  ,\n",
      "         0.        ,  0.00347605, -0.14119497,  0.23050742,  0.        ],\n",
      "       [ 0.        ,  0.        ,  0.        ,  0.        ,  0.        ,\n",
      "         0.        ,  0.        ,  0.        ,  0.        ,  0.        ],\n",
      "       [ 0.        ,  0.00060864,  0.00345606, -0.02094512, -0.01571916,\n",
      "         0.        ,  0.00237101, -0.01919702,  0.01760815,  0.        ]],\n",
      "      dtype=float32)>, <tf.Tensor: id=535075, shape=(10,), dtype=float32, numpy=\n",
      "array([ 0.        , -0.00294127,  0.00111128, -0.02470313, -0.0238752 ,\n",
      "        0.        ,  0.00057574, -0.02496327,  0.03469573,  0.        ],\n",
      "      dtype=float32)>, <tf.Tensor: id=535073, shape=(10, 3), dtype=float32, numpy=\n",
      "array([[ 0.00000000e+00,  0.00000000e+00,  0.00000000e+00],\n",
      "       [ 2.42879093e-02,  1.23841070e-01, -1.48128986e-01],\n",
      "       [-1.82042331e-05,  1.82038384e-05,  4.20162377e-10],\n",
      "       [ 2.83824652e-03,  3.64596471e-02, -3.92978974e-02],\n",
      "       [ 1.24735003e-02,  1.04387812e-01, -1.16861306e-01],\n",
      "       [ 0.00000000e+00,  0.00000000e+00,  0.00000000e+00],\n",
      "       [ 3.38863162e-03,  2.33873874e-02, -2.67760251e-02],\n",
      "       [ 3.84518318e-02,  2.00090677e-01, -2.38542527e-01],\n",
      "       [ 7.23067671e-03,  1.43929005e-01, -1.51159793e-01],\n",
      "       [ 0.00000000e+00,  0.00000000e+00,  0.00000000e+00]], dtype=float32)>, <tf.Tensor: id=535071, shape=(3,), dtype=float32, numpy=array([ 0.00333145,  0.02190209, -0.02523355], dtype=float32)>]\n",
      "tf.Tensor(0.15042809, shape=(), dtype=float32)\n",
      "tf.Tensor(\n",
      "[[7.4 2.8 6.1 1.9]\n",
      " [4.9 2.4 3.3 1. ]\n",
      " [6.8 2.8 4.8 1.4]\n",
      " [6.4 2.7 5.3 1.9]\n",
      " [5.  2.  3.5 1. ]\n",
      " [7.7 3.8 6.7 2.2]\n",
      " [7.6 3.  6.6 2.1]\n",
      " [6.5 3.  5.8 2.2]\n",
      " [5.2 3.5 1.5 0.2]\n",
      " [5.9 3.  5.1 1.8]\n",
      " [5.5 3.5 1.3 0.2]\n",
      " [7.3 2.9 6.3 1.8]\n",
      " [5.  3.5 1.3 0.3]\n",
      " [5.7 4.4 1.5 0.4]\n",
      " [5.8 2.7 4.1 1. ]\n",
      " [5.  3.  1.6 0.2]\n",
      " [6.3 2.3 4.4 1.3]\n",
      " [6.  3.  4.8 1.8]\n",
      " [4.4 3.2 1.3 0.2]\n",
      " [7.2 3.  5.8 1.6]\n",
      " [4.7 3.2 1.3 0.2]\n",
      " [5.  3.2 1.2 0.2]\n",
      " [5.7 3.8 1.7 0.3]\n",
      " [5.2 3.4 1.4 0.2]\n",
      " [6.1 2.9 4.7 1.4]\n",
      " [6.9 3.2 5.7 2.3]\n",
      " [6.5 3.2 5.1 2. ]\n",
      " [5.1 3.8 1.6 0.2]\n",
      " [6.2 2.8 4.8 1.8]\n",
      " [6.6 3.  4.4 1.4]\n",
      " [4.4 2.9 1.4 0.2]\n",
      " [5.1 3.7 1.5 0.4]], shape=(32, 4), dtype=float32)\n",
      "tf.Tensor([2 1 1 2 1 2 2 2 0 2 0 2 0 0 1 0 1 2 0 2 0 0 0 0 1 2 2 0 2 1 0 0], shape=(32,), dtype=int32)\n",
      "[<tf.Tensor: id=535218, shape=(4, 10), dtype=float32, numpy=\n",
      "array([[-0.07054506,  0.482108  ,  1.1929003 ,  0.        ,  0.08685602,\n",
      "         0.        ,  0.        , -0.96278006,  0.        ,  0.3309263 ],\n",
      "       [-0.03010854,  0.2209034 ,  0.54745746,  0.        ,  0.03558702,\n",
      "         0.        ,  0.        , -0.44400853,  0.        ,  0.14838016],\n",
      "       [-0.06186418,  0.39969876,  0.9882635 ,  0.        ,  0.08134502,\n",
      "         0.        ,  0.        , -0.7920522 ,  0.        ,  0.28336638],\n",
      "       [-0.02220691,  0.14337762,  0.35480154,  0.        ,  0.02995497,\n",
      "         0.        ,  0.        , -0.2835858 ,  0.        ,  0.103576  ]],\n",
      "      dtype=float32)>, <tf.Tensor: id=535216, shape=(10,), dtype=float32, numpy=\n",
      "array([-0.01052725,  0.07179043,  0.1772225 ,  0.        ,  0.01219014,\n",
      "        0.        ,  0.        , -0.14381616,  0.        ,  0.0491434 ],\n",
      "      dtype=float32)>, <tf.Tensor: id=535214, shape=(10, 10), dtype=float32, numpy=\n",
      "array([[ 0.0000000e+00,  8.2056997e-03,  8.4986016e-03, -6.5750766e-01,\n",
      "        -5.4213250e-01,  3.3895150e-03,  3.5955291e-02, -4.3292302e-01,\n",
      "         7.9407632e-01,  1.0961567e-03],\n",
      "       [ 0.0000000e+00,  2.1353699e-03,  4.1673309e-03, -6.4680994e-02,\n",
      "        -4.8229557e-02,  1.6994098e-03,  5.3516235e-03, -3.8067982e-02,\n",
      "         6.6734493e-02,  5.0698110e-04],\n",
      "       [ 0.0000000e+00,  5.4969070e-03,  1.0108126e-02, -2.5119510e-01,\n",
      "        -1.9715123e-01,  4.2154784e-03,  1.7334489e-02, -1.5701650e-01,\n",
      "         2.8080273e-01,  1.2249454e-03],\n",
      "       [ 0.0000000e+00,  0.0000000e+00,  0.0000000e+00,  0.0000000e+00,\n",
      "         0.0000000e+00,  0.0000000e+00,  0.0000000e+00,  0.0000000e+00,\n",
      "         0.0000000e+00,  0.0000000e+00],\n",
      "       [ 0.0000000e+00,  6.3950671e-03,  8.8220006e-03, -4.0056759e-01,\n",
      "        -3.2478151e-01,  3.6319334e-03,  2.3868345e-02, -2.5892696e-01,\n",
      "         4.7145215e-01,  1.0750940e-03],\n",
      "       [ 0.0000000e+00,  0.0000000e+00,  0.0000000e+00,  0.0000000e+00,\n",
      "         0.0000000e+00,  0.0000000e+00,  0.0000000e+00,  0.0000000e+00,\n",
      "         0.0000000e+00,  0.0000000e+00],\n",
      "       [ 0.0000000e+00,  0.0000000e+00,  0.0000000e+00,  0.0000000e+00,\n",
      "         0.0000000e+00,  0.0000000e+00,  0.0000000e+00,  0.0000000e+00,\n",
      "         0.0000000e+00,  0.0000000e+00],\n",
      "       [ 0.0000000e+00,  4.0768846e-03,  1.6959312e-03, -4.2823789e-01,\n",
      "        -3.5859144e-01,  6.0738839e-04,  2.1424718e-02, -2.8650260e-01,\n",
      "         5.2968657e-01,  2.4028696e-04],\n",
      "       [ 0.0000000e+00,  0.0000000e+00,  0.0000000e+00,  0.0000000e+00,\n",
      "         0.0000000e+00,  0.0000000e+00,  0.0000000e+00,  0.0000000e+00,\n",
      "         0.0000000e+00,  0.0000000e+00],\n",
      "       [ 0.0000000e+00,  3.7280521e-03,  8.0912458e-03, -6.5173157e-02,\n",
      "        -4.2609978e-02,  3.2819239e-03,  7.5196601e-03, -3.3030868e-02,\n",
      "         5.3899713e-02,  9.9600700e-04]], dtype=float32)>, <tf.Tensor: id=535212, shape=(10,), dtype=float32, numpy=\n",
      "array([ 0.        ,  0.00131988,  0.0023407 , -0.08791573, -0.07097162,\n",
      "        0.00092916,  0.00537742, -0.05688721,  0.10260252,  0.00027884],\n",
      "      dtype=float32)>, <tf.Tensor: id=535210, shape=(10, 3), dtype=float32, numpy=\n",
      "array([[ 0.0000000e+00,  0.0000000e+00,  0.0000000e+00],\n",
      "       [ 8.7621389e-03,  3.7274909e-01, -3.8151124e-01],\n",
      "       [-1.4781651e-04,  1.4781488e-04,  1.9362876e-09],\n",
      "       [-1.7125631e-03,  6.1202772e-02, -5.9490200e-02],\n",
      "       [ 4.8993183e-03,  2.6519847e-01, -2.7009779e-01],\n",
      "       [-6.3834930e-05,  6.3834741e-05,  4.1828574e-10],\n",
      "       [-1.1751032e-03,  6.8146199e-02, -6.6971086e-02],\n",
      "       [ 1.4172509e-02,  5.9728384e-01, -6.1145639e-01],\n",
      "       [-4.0789824e-02,  5.0369632e-01, -4.6290642e-01],\n",
      "       [-1.0235559e-05,  1.0235499e-05,  8.4300240e-11]], dtype=float32)>, <tf.Tensor: id=535208, shape=(3,), dtype=float32, numpy=array([-0.00369089,  0.08280687, -0.07911596], dtype=float32)>]\n",
      "tf.Tensor(0.15530497, shape=(), dtype=float32)\n",
      "tf.Tensor(\n",
      "[[5.4 3.9 1.3 0.4]\n",
      " [5.8 4.  1.2 0.2]\n",
      " [4.9 3.1 1.5 0.1]\n",
      " [6.7 3.1 5.6 2.4]\n",
      " [6.5 3.  5.5 1.8]\n",
      " [7.2 3.6 6.1 2.5]\n",
      " [5.6 2.5 3.9 1.1]\n",
      " [6.9 3.1 4.9 1.5]\n",
      " [6.3 2.5 5.  1.9]\n",
      " [6.7 3.3 5.7 2.1]\n",
      " [6.1 2.8 4.  1.3]\n",
      " [6.1 2.6 5.6 1.4]\n",
      " [6.4 3.2 5.3 2.3]\n",
      " [6.8 3.  5.5 2.1]\n",
      " [5.4 3.4 1.5 0.4]\n",
      " [5.9 3.2 4.8 1.8]\n",
      " [6.7 3.1 4.4 1.4]\n",
      " [5.3 3.7 1.5 0.2]\n",
      " [6.4 3.1 5.5 1.8]\n",
      " [5.4 3.9 1.7 0.4]\n",
      " [6.  2.7 5.1 1.6]\n",
      " [5.5 2.4 3.8 1.1]\n",
      " [7.9 3.8 6.4 2. ]\n",
      " [5.7 2.8 4.5 1.3]\n",
      " [4.9 3.1 1.5 0.1]\n",
      " [6.3 3.3 6.  2.5]\n",
      " [4.8 3.4 1.6 0.2]\n",
      " [4.5 2.3 1.3 0.3]\n",
      " [4.6 3.6 1.  0.2]\n",
      " [5.  3.4 1.5 0.2]\n",
      " [6.4 2.8 5.6 2.1]\n",
      " [6.7 3.  5.  1.7]], shape=(32, 4), dtype=float32)\n",
      "tf.Tensor([0 0 0 2 2 2 1 1 2 2 1 2 2 2 0 1 1 0 2 0 1 1 2 1 0 2 0 0 0 0 2 1], shape=(32,), dtype=int32)\n",
      "[<tf.Tensor: id=535355, shape=(4, 10), dtype=float32, numpy=\n",
      "array([[-0.0155617 ,  0.08960393,  0.22815736,  0.        ,  0.01040135,\n",
      "         0.        ,  0.        , -0.1898177 ,  0.        ,  0.04817092],\n",
      "       [-0.0043778 ,  0.03533076,  0.09332915,  0.        ,  0.00064401,\n",
      "         0.        ,  0.        , -0.07909527,  0.        ,  0.01416577],\n",
      "       [-0.01884099,  0.08710927,  0.21159211,  0.        ,  0.01827539,\n",
      "         0.        ,  0.        , -0.1740069 ,  0.        ,  0.05882118],\n",
      "       [-0.00791943,  0.0380205 ,  0.09234593,  0.        ,  0.00859585,\n",
      "         0.        ,  0.        , -0.07495335,  0.        ,  0.02825654]],\n",
      "      dtype=float32)>, <tf.Tensor: id=535353, shape=(10,), dtype=float32, numpy=\n",
      "array([-0.00092026,  0.00647178,  0.01796653,  0.        , -0.0005345 ,\n",
      "        0.        ,  0.        , -0.01557409,  0.        ,  0.00073428],\n",
      "      dtype=float32)>, <tf.Tensor: id=535351, shape=(10, 10), dtype=float32, numpy=\n",
      "array([[ 0.0000000e+00,  4.5246263e-03,  7.0722788e-03, -1.3827118e-01,\n",
      "        -1.1224905e-01,  5.6975260e-03,  8.7448303e-03, -9.5426589e-02,\n",
      "         1.5956721e-01,  1.6452675e-03],\n",
      "       [ 0.0000000e+00,  4.0242281e-03,  3.3789924e-03, -1.2913675e-02,\n",
      "        -5.9863883e-03,  2.7634124e-03,  2.4219058e-03, -4.5689326e-03,\n",
      "         4.8347395e-03,  7.1314321e-04],\n",
      "       [ 0.0000000e+00,  9.0431729e-03,  8.4152827e-03, -4.4146817e-02,\n",
      "        -2.6626438e-02,  6.8738619e-03,  6.1605661e-03, -2.2220155e-02,\n",
      "         2.9818468e-02,  1.7872617e-03],\n",
      "       [ 0.0000000e+00,  0.0000000e+00,  0.0000000e+00,  0.0000000e+00,\n",
      "         0.0000000e+00,  0.0000000e+00,  0.0000000e+00,  0.0000000e+00,\n",
      "         0.0000000e+00,  0.0000000e+00],\n",
      "       [ 0.0000000e+00,  6.7584505e-03,  7.2525237e-03, -8.4866777e-02,\n",
      "        -6.3993372e-02,  6.0684397e-03,  7.1199592e-03, -5.3665239e-02,\n",
      "         8.6944990e-02,  1.5735773e-03],\n",
      "       [ 0.0000000e+00,  0.0000000e+00,  0.0000000e+00,  0.0000000e+00,\n",
      "         0.0000000e+00,  0.0000000e+00,  0.0000000e+00,  0.0000000e+00,\n",
      "         0.0000000e+00,  0.0000000e+00],\n",
      "       [ 0.0000000e+00,  0.0000000e+00,  0.0000000e+00,  0.0000000e+00,\n",
      "         0.0000000e+00,  0.0000000e+00,  0.0000000e+00,  0.0000000e+00,\n",
      "         0.0000000e+00,  0.0000000e+00],\n",
      "       [ 0.0000000e+00, -1.0496039e-03,  1.3608767e-03, -9.8207429e-02,\n",
      "        -8.4877700e-02,  1.2105000e-03,  4.3065166e-03, -7.2044134e-02,\n",
      "         1.2527826e-01,  3.8734611e-04],\n",
      "       [ 0.0000000e+00,  0.0000000e+00,  0.0000000e+00,  0.0000000e+00,\n",
      "         0.0000000e+00,  0.0000000e+00,  0.0000000e+00,  0.0000000e+00,\n",
      "         0.0000000e+00,  0.0000000e+00],\n",
      "       [ 0.0000000e+00,  8.2014110e-03,  6.5641017e-03, -1.2210859e-02,\n",
      "        -1.5561702e-04,  5.2358978e-03,  4.2532566e-03,  8.9269876e-04,\n",
      "        -7.7414485e-03,  1.3842457e-03]], dtype=float32)>, <tf.Tensor: id=535349, shape=(10,), dtype=float32, numpy=\n",
      "array([ 0.        ,  0.00187704,  0.00193345, -0.01114765, -0.00728686,\n",
      "        0.00170664,  0.00138194, -0.00632761,  0.00861888,  0.00044083],\n",
      "      dtype=float32)>, <tf.Tensor: id=535347, shape=(10, 3), dtype=float32, numpy=\n",
      "array([[ 0.0000000e+00,  0.0000000e+00,  0.0000000e+00],\n",
      "       [ 7.4685356e-03,  7.9690248e-02, -8.7158829e-02],\n",
      "       [-1.5926038e-04,  1.5925814e-04,  1.5210201e-09],\n",
      "       [-1.2054881e-03,  2.0509539e-02, -1.9304061e-02],\n",
      "       [ 4.4393158e-03,  6.7652814e-02, -7.2092153e-02],\n",
      "       [-5.8405996e-05,  5.8404839e-05,  7.7558815e-10],\n",
      "       [-1.1838899e-03,  1.4894703e-02, -1.3710825e-02],\n",
      "       [ 1.2653366e-02,  1.2925506e-01, -1.4190850e-01],\n",
      "       [-3.6929995e-02,  1.0212288e-01, -6.5193020e-02],\n",
      "       [-2.9395358e-06,  2.9394766e-06,  5.8814974e-11]], dtype=float32)>, <tf.Tensor: id=535345, shape=(3,), dtype=float32, numpy=array([-0.00373822,  0.01152204, -0.00778383], dtype=float32)>]\n",
      "tf.Tensor(0.17700905, shape=(), dtype=float32)\n",
      "tf.Tensor(\n",
      "[[5.5 2.4 3.7 1. ]\n",
      " [5.8 2.6 4.  1.2]\n",
      " [5.6 2.7 4.2 1.3]\n",
      " [6.1 2.8 4.7 1.2]\n",
      " [4.6 3.2 1.4 0.2]\n",
      " [7.7 3.  6.1 2.3]\n",
      " [7.2 3.2 6.  1.8]\n",
      " [4.9 2.5 4.5 1.7]\n",
      " [6.6 2.9 4.6 1.3]\n",
      " [5.5 2.6 4.4 1.2]\n",
      " [6.5 3.  5.2 2. ]\n",
      " [5.8 2.7 5.1 1.9]\n",
      " [4.6 3.1 1.5 0.2]\n",
      " [6.  2.9 4.5 1.5]\n",
      " [5.  2.3 3.3 1. ]\n",
      " [5.1 3.5 1.4 0.3]\n",
      " [5.  3.6 1.4 0.2]\n",
      " [6.4 3.2 4.5 1.5]\n",
      " [4.8 3.  1.4 0.1]\n",
      " [6.5 2.8 4.6 1.5]\n",
      " [6.3 2.7 4.9 1.8]\n",
      " [5.  3.3 1.4 0.2]\n",
      " [4.8 3.1 1.6 0.2]\n",
      " [5.4 3.7 1.5 0.2]], shape=(24, 4), dtype=float32)\n",
      "tf.Tensor([1 1 1 1 0 2 2 2 1 1 2 2 0 1 1 0 0 1 0 1 2 0 0 0], shape=(24,), dtype=int32)\n",
      "[<tf.Tensor: id=535492, shape=(4, 10), dtype=float32, numpy=\n",
      "array([[-0.03377554,  0.14765684,  0.34126416,  0.        ,  0.02428835,\n",
      "         0.        ,  0.        , -0.29262334,  0.        ,  0.11980888],\n",
      "       [-0.01112967,  0.05763084,  0.13238163,  0.        ,  0.0051793 ,\n",
      "         0.        ,  0.        , -0.11639102,  0.        ,  0.04170828],\n",
      "       [-0.03319586,  0.13350956,  0.31233948,  0.        ,  0.03039765,\n",
      "         0.        ,  0.        , -0.2604957 ,  0.        ,  0.11688259],\n",
      "       [-0.01343554,  0.05977438,  0.14254938,  0.        ,  0.01407614,\n",
      "         0.        ,  0.        , -0.11666883,  0.        ,  0.05125364]],\n",
      "      dtype=float32)>, <tf.Tensor: id=535490, shape=(10,), dtype=float32, numpy=\n",
      "array([-0.0045361 ,  0.01806338,  0.04036921,  0.        ,  0.00216923,\n",
      "        0.        ,  0.        , -0.03608801,  0.        ,  0.01447694],\n",
      "      dtype=float32)>, <tf.Tensor: id=535488, shape=(10, 10), dtype=float32, numpy=\n",
      "array([[ 0.        , -0.00597564,  0.00763972, -0.19630018, -0.16823968,\n",
      "         0.        ,  0.00959527, -0.14851621,  0.24421823,  0.        ],\n",
      "       [ 0.        ,  0.00139875,  0.00356156, -0.01738559, -0.01047959,\n",
      "         0.        ,  0.00245877, -0.00930697,  0.01153811,  0.        ],\n",
      "       [ 0.        ,  0.00091902,  0.00895046, -0.05820476, -0.04189528,\n",
      "         0.        ,  0.00593659, -0.0391583 ,  0.05302284,  0.        ],\n",
      "       [ 0.        ,  0.        ,  0.        ,  0.        ,  0.        ,\n",
      "         0.        ,  0.        ,  0.        ,  0.        ,  0.        ],\n",
      "       [ 0.        , -0.00158621,  0.00773495, -0.12029167, -0.09840274,\n",
      "         0.        ,  0.00758532, -0.0868931 ,  0.13895929,  0.        ],\n",
      "       [ 0.        ,  0.        ,  0.        ,  0.        ,  0.        ,\n",
      "         0.        ,  0.        ,  0.        ,  0.        ,  0.        ],\n",
      "       [ 0.        ,  0.        ,  0.        ,  0.        ,  0.        ,\n",
      "         0.        ,  0.        ,  0.        ,  0.        ,  0.        ],\n",
      "       [ 0.        , -0.00553413,  0.0015348 , -0.14360315, -0.12735227,\n",
      "         0.        ,  0.0053037 , -0.1105717 ,  0.18941855,  0.        ],\n",
      "       [ 0.        ,  0.        ,  0.        ,  0.        ,  0.        ,\n",
      "         0.        ,  0.        ,  0.        ,  0.        ,  0.        ],\n",
      "       [ 0.        ,  0.0037327 ,  0.00689616, -0.01171368, -0.00042447,\n",
      "         0.        ,  0.00409304, -0.00073477, -0.00750747,  0.        ]],\n",
      "      dtype=float32)>, <tf.Tensor: id=535486, shape=(10,), dtype=float32, numpy=\n",
      "array([ 0.        , -0.00049238,  0.00212093, -0.02090484, -0.01683021,\n",
      "        0.        ,  0.0014958 , -0.01576228,  0.02303516,  0.        ],\n",
      "      dtype=float32)>, <tf.Tensor: id=535484, shape=(10, 3), dtype=float32, numpy=\n",
      "array([[ 0.0000000e+00,  0.0000000e+00,  0.0000000e+00],\n",
      "       [ 1.4303570e-02,  1.1581001e-01, -1.3011360e-01],\n",
      "       [-1.0136036e-04,  1.0135934e-04,  1.2220935e-09],\n",
      "       [-6.1537704e-04,  2.9473118e-02, -2.8857747e-02],\n",
      "       [ 7.9640010e-03,  9.7626835e-02, -1.0559087e-01],\n",
      "       [ 0.0000000e+00,  0.0000000e+00,  0.0000000e+00],\n",
      "       [ 1.8929876e-04,  2.1253072e-02, -2.1442376e-02],\n",
      "       [ 2.3019871e-02,  1.8751343e-01, -2.1053335e-01],\n",
      "       [-2.8018650e-02,  1.3014621e-01, -1.0212762e-01],\n",
      "       [ 0.0000000e+00,  0.0000000e+00,  0.0000000e+00]], dtype=float32)>, <tf.Tensor: id=535482, shape=(3,), dtype=float32, numpy=array([-0.00189193,  0.02000709, -0.01811516], dtype=float32)>]\n",
      "tf.Tensor(0.14330082, shape=(), dtype=float32)\n"
     ]
    }
   ],
   "source": [
    "for x,y in train_dataset:\n",
    "    print(x)\n",
    "    print(y)\n",
    "    print(grad(model, x, y))\n",
    "    print(loss(model,x,y))"
   ]
  },
  {
   "cell_type": "markdown",
   "metadata": {},
   "source": [
    "##### 3.2 Create an optimizer"
   ]
  },
  {
   "cell_type": "code",
   "execution_count": 33,
   "metadata": {},
   "outputs": [],
   "source": [
    "# stochastic gradient descent\n",
    "optimizer = tf.train.GradientDescentOptimizer(learning_rate = 0.01)"
   ]
  },
  {
   "cell_type": "markdown",
   "metadata": {},
   "source": [
    "##### 3.3 Training loop"
   ]
  },
  {
   "cell_type": "code",
   "execution_count": 55,
   "metadata": {},
   "outputs": [
    {
     "name": "stdout",
     "output_type": "stream",
     "text": [
      "Epoch 000: Loss: 1.261, Accuracy: 33.333%\n",
      "Epoch 050: Loss: 0.484, Accuracy: 88.333%\n",
      "Epoch 100: Loss: 0.271, Accuracy: 95.000%\n",
      "Epoch 150: Loss: 0.192, Accuracy: 97.500%\n",
      "Epoch 200: Loss: 0.138, Accuracy: 98.333%\n"
     ]
    }
   ],
   "source": [
    "\n",
    "# keep results for plotting\n",
    "train_loss = []\n",
    "train_accuracy = []\n",
    "\n",
    "num_epoches = 201\n",
    "\n",
    "for epoch in range(num_epoches):\n",
    "    \n",
    "    # I knew tfe.metrics only after writing this code\n",
    "    epoch_loss_avg = tfe.metrics.Mean()\n",
    "    epoch_accuracy = tfe.metrics.Accuracy()\n",
    "    \n",
    "    # training loop, batches of 32\n",
    "    for x, y in train_dataset:\n",
    "        \n",
    "        # optimize the model\n",
    "        grads = grad(model, x, y)\n",
    "        optimizer.apply_gradients(zip(grads, model.variables),\n",
    "                                 global_step = tf.train.get_or_create_global_step())\n",
    "        \n",
    "        # track progress\n",
    "        epoch_loss_avg(loss(model, x, y))\n",
    "        epoch_accuracy(tf.argmax(model(x), axis = 1, output_type = tf.int32), y)\n",
    "    \n",
    "    train_loss.append(epoch_loss_avg.result())\n",
    "    train_accuracy.append(epoch_accuracy.result())\n",
    "    \n",
    "    if epoch % 50 == 0:\n",
    "        print(\"Epoch {:03d}: Loss: {:.3f}, Accuracy: {:.3%}\".format(epoch,\n",
    "                                                                   epoch_loss_avg.result(),\n",
    "                                                                   epoch_accuracy.result()))"
   ]
  },
  {
   "cell_type": "code",
   "execution_count": 48,
   "metadata": {},
   "outputs": [
    {
     "name": "stdout",
     "output_type": "stream",
     "text": [
      "tf.Tensor(0.08862022962421179, shape=(), dtype=float64)\n"
     ]
    }
   ],
   "source": [
    "print(epoch_loss_avg.result())"
   ]
  },
  {
   "cell_type": "markdown",
   "metadata": {},
   "source": [
    "##### 3.4 Visualize loss function over time"
   ]
  },
  {
   "cell_type": "code",
   "execution_count": 58,
   "metadata": {},
   "outputs": [
    {
     "data": {
      "image/png": "[encoded data removed]",
      "text/plain": [
       "<Figure size 864x576 with 2 Axes>"
      ]
     },
     "metadata": {},
     "output_type": "display_data"
    }
   ],
   "source": [
    "fig, axes = plt.subplots(2, sharex = True, figsize = (12,8))\n",
    "\n",
    "fig.suptitle('Training Metrics', fontsize = 18)\n",
    "\n",
    "axes[0].set_ylabel('Loss', fontsize = 14)\n",
    "axes[0].plot(train_loss)\n",
    "\n",
    "axes[1].set_ylabel('Accuracy', fontsize = 14)\n",
    "axes[1].set_xlabel('Epoch', fontsize = 14)\n",
    "axes[1].plot(train_accuracy)\n",
    "\n",
    "plt.show()"
   ]
  },
  {
   "cell_type": "markdown",
   "metadata": {},
   "source": [
    "### 4 Evaluate the model's effectiveness"
   ]
  },
  {
   "cell_type": "markdown",
   "metadata": {},
   "source": [
    "##### 4.1 Setup the test dataset"
   ]
  },
  {
   "cell_type": "code",
   "execution_count": 62,
   "metadata": {},
   "outputs": [],
   "source": [
    "test_dataset_filepath = '/Users/Yang/Documents/iris_test.csv'\n",
    "\n",
    "test_dataset = tf.data.TextLineDataset(test_dataset_filepath)\n",
    "test_dataset = test_dataset.skip(1)\n",
    "test_dataset = test_dataset.map(parse_csv)\n",
    "test_dataset = test_dataset.shuffle(1000)\n",
    "test_dataset = test_dataset.batch(32)"
   ]
  },
  {
   "cell_type": "markdown",
   "metadata": {},
   "source": [
    "##### 4.2 Evaluate the model on the test dataset"
   ]
  },
  {
   "cell_type": "code",
   "execution_count": 69,
   "metadata": {},
   "outputs": [
    {
     "name": "stdout",
     "output_type": "stream",
     "text": [
      "Test Accuracy: 96.667%\n"
     ]
    }
   ],
   "source": [
    "test_accuracy = tfe.metrics.Accuracy()\n",
    "\n",
    "for x,y in test_dataset:\n",
    "    predictions = tf.argmax(model(x), axis = 1, output_type = tf.int32)\n",
    "    test_accuracy(predictions, y)\n",
    "\n",
    "print(\"Test Accuracy: {:.3%}\".format(test_accuracy.result()))"
   ]
  },
  {
   "cell_type": "markdown",
   "metadata": {},
   "source": [
    "### 5 Use the trained model to make predictions"
   ]
  },
  {
   "cell_type": "code",
   "execution_count": 75,
   "metadata": {},
   "outputs": [
    {
     "name": "stdout",
     "output_type": "stream",
     "text": [
      "Example 0, prediction: Iris setosa\n",
      "Example 1, prediction: Iris versicolor\n",
      "Example 2, prediction: Iris virginica\n"
     ]
    }
   ],
   "source": [
    "class_ids = [\"Iris setosa\",\"Iris versicolor\",\"Iris virginica\"]\n",
    "\n",
    "predict_dataset = tf.convert_to_tensor([\n",
    "    [5.1, 3.3, 1.7, 0.5,],\n",
    "    [5.9, 5.0, 4.2, 1.5,],\n",
    "    [6.9, 3.1, 5.4, 2.1,]\n",
    "])\n",
    "\n",
    "predictions = model(predict_dataset)\n",
    "\n",
    "for i, logits in enumerate(predictions):\n",
    "    class_index = tf.argmax(logits).numpy()\n",
    "    name = class_ids[class_index]\n",
    "    print(\"Example {}, prediction: {}\".format(i, name))"
   ]
  },
  {
   "cell_type": "code",
   "execution_count": null,
   "metadata": {},
   "outputs": [],
   "source": []
  }
 ],
 "metadata": {
  "kernelspec": {
   "display_name": "Python 3",
   "language": "python",
   "name": "python3"
  },
  "language_info": {
   "codemirror_mode": {
    "name": "ipython",
    "version": 3
   },
   "file_extension": ".py",
   "mimetype": "text/x-python",
   "name": "python",
   "nbconvert_exporter": "python",
   "pygments_lexer": "ipython3",
   "version": "3.6.4"
  }
 },
 "nbformat": 4,
 "nbformat_minor": 2
}
