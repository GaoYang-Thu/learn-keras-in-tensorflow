{
 "cells": [
  {
   "cell_type": "markdown",
   "metadata": {},
   "source": [
    "# An Implemetation of TensorFlow Eager Execution [Tutorial](www.tensorflow.org/get_started/eager)"
   ]
  },
  {
   "cell_type": "markdown",
   "metadata": {},
   "source": [
    "## What does eager execution do?\n",
    "Eager execution makes TensorFlow evaluate operations immediately, returns concrete values instead of creating a computational graph.  \n",
    "Using computational graphs is messy, in my opinion."
   ]
  },
  {
   "cell_type": "markdown",
   "metadata": {},
   "source": [
    "## First, let's set up the eager mode"
   ]
  },
  {
   "cell_type": "code",
   "execution_count": 1,
   "metadata": {
    "scrolled": true
   },
   "outputs": [
    {
     "name": "stderr",
     "output_type": "stream",
     "text": [
      "/Users/Yang/anaconda3/lib/python3.6/site-packages/h5py/__init__.py:36: FutureWarning: Conversion of the second argument of issubdtype from `float` to `np.floating` is deprecated. In future, it will be treated as `np.float64 == np.dtype(float).type`.\n",
      "  from ._conv import register_converters as _register_converters\n"
     ]
    },
    {
     "name": "stdout",
     "output_type": "stream",
     "text": [
      "TensorFlow version : 1.8.0\n",
      "Eager execution: True\n"
     ]
    }
   ],
   "source": [
    "from __future__ import absolute_import, division, print_function\n",
    "\n",
    "import os\n",
    "import matplotlib.pyplot as plt\n",
    "\n",
    "import tensorflow as tf\n",
    "import tensorflow.contrib.eager as tfe\n",
    "\n",
    "# Restart this notebook from scratch if an error raises\n",
    "\n",
    "print(\"Enabling eager mode...\")\n",
    "tfe.enable_eager_execution()\n",
    "\n",
    "print(\"TensorFlow version : {}\".format(tf.VERSION))\n",
    "print(\"Eager execution: {}\".format(tf.executing_eagerly()))"
   ]
  },
  {
   "cell_type": "markdown",
   "metadata": {},
   "source": [
    "##  Now let's solve the Iris classification problem"
   ]
  },
  {
   "cell_type": "markdown",
   "metadata": {},
   "source": [
    "### 1 Import the dataset"
   ]
  },
  {
   "cell_type": "markdown",
   "metadata": {},
   "source": [
    "##### 1.1 Download"
   ]
  },
  {
   "cell_type": "code",
   "execution_count": 2,
   "metadata": {
    "scrolled": true
   },
   "outputs": [
    {
     "name": "stdout",
     "output_type": "stream",
     "text": [
      "local copy of the csv: /Users/Yang/Documents/iris_training.csv\n"
     ]
    }
   ],
   "source": [
    "# train_dataset_url = \"http://download.tensorflow.org/data/iris_training.csv\"\n",
    "\n",
    "# train_dataset_fp = tf.keras.utils.get_file(fname = os.path.basename(train_dataset_url),\n",
    "#                                           origin = train_dataset_url)\n",
    "# directly downloaded from tensorflow.org\n",
    "train_dataset_filepath = '/Users/Yang/Documents/iris_training.csv'\n",
    "print(\"local copy of the csv: {}\".format(train_dataset_filepath))"
   ]
  },
  {
   "cell_type": "markdown",
   "metadata": {},
   "source": [
    "##### 1.2 Inspect"
   ]
  },
  {
   "cell_type": "code",
   "execution_count": 3,
   "metadata": {},
   "outputs": [
    {
     "name": "stdout",
     "output_type": "stream",
     "text": [
      "120,4,setosa,versicolor,virginica\r\n",
      "6.4,2.8,5.6,2.2,2\r\n",
      "5.0,2.3,3.3,1.0,1\r\n",
      "4.9,2.5,4.5,1.7,2\r\n",
      "4.9,3.1,1.5,0.1,0\r\n"
     ]
    }
   ],
   "source": [
    "!head -n5 {train_dataset_filepath}"
   ]
  },
  {
   "cell_type": "markdown",
   "metadata": {},
   "source": [
    "##### 1.3 Parse"
   ]
  },
  {
   "cell_type": "markdown",
   "metadata": {},
   "source": [
    "Purpose: parse the features and label values into a format that Python model can use."
   ]
  },
  {
   "cell_type": "code",
   "execution_count": 4,
   "metadata": {},
   "outputs": [],
   "source": [
    "def parse_csv(line):\n",
    "    example_defaults = [[0.],[0.],[0.],[0.],[0]]\n",
    "    parse_line = tf.decode_csv(line, example_defaults)\n",
    "    features = tf.reshape(parse_line[:-1], shape = (4,))\n",
    "    label = tf.reshape(parse_line[-1], shape = ())\n",
    "    return features, label"
   ]
  },
  {
   "cell_type": "markdown",
   "metadata": {},
   "source": [
    "##### 1.4 Create training tf.data.Dataset"
   ]
  },
  {
   "cell_type": "code",
   "execution_count": 5,
   "metadata": {},
   "outputs": [
    {
     "name": "stdout",
     "output_type": "stream",
     "text": [
      "example feature:  tf.Tensor([6.1 3.  4.9 1.8], shape=(4,), dtype=float32)\n",
      "example label:  tf.Tensor(2, shape=(), dtype=int32)\n"
     ]
    }
   ],
   "source": [
    "train_dataset = tf.data.TextLineDataset(train_dataset_filepath) # what format?\n",
    "train_dataset = train_dataset.skip(1) # skip header row\n",
    "train_dataset = train_dataset.map(parse_csv) # parse each line. (how?)\n",
    "train_dataset = train_dataset.shuffle(buffer_size = 1000) # shuffle \n",
    "train_dataset = train_dataset.batch(32) # create batch\n",
    "\n",
    "features, label = iter(train_dataset).next()\n",
    "print(\"example feature: \", features[1])\n",
    "print(\"example label: \",label[1])"
   ]
  },
  {
   "cell_type": "code",
   "execution_count": 6,
   "metadata": {},
   "outputs": [
    {
     "name": "stdout",
     "output_type": "stream",
     "text": [
      "<BatchDataset shapes: ((?, 4), (?,)), types: (tf.float32, tf.int32)>\n"
     ]
    }
   ],
   "source": [
    "print(train_dataset)"
   ]
  },
  {
   "cell_type": "markdown",
   "metadata": {},
   "source": [
    "### 2 Select the type of model"
   ]
  },
  {
   "cell_type": "markdown",
   "metadata": {},
   "source": [
    "##### 2.0 What is a model?\n",
    "A model is the _relationship_ between features and the label. How philosophical!  \n",
    "\n",
    "Our features:\n",
    "* sepal length\n",
    "* sepal width\n",
    "* petal length\n",
    "* petal width  \n",
    "\n",
    "Our label:\n",
    "* 0, 1, or 2"
   ]
  },
  {
   "cell_type": "markdown",
   "metadata": {},
   "source": [
    "##### 2.1 Select a model\n",
    "We choose a fully connected neural network with 2 hidden layers."
   ]
  },
  {
   "cell_type": "markdown",
   "metadata": {},
   "source": [
    "##### 2.2 Create the model using Keras"
   ]
  },
  {
   "cell_type": "code",
   "execution_count": 14,
   "metadata": {},
   "outputs": [],
   "source": [
    "# try your best to construct the model independently :D\n",
    "\n",
    "model = tf.keras.Sequential([\n",
    "    tf.keras.layers.Dense(10, activation = 'relu', input_shape = (4,)),\n",
    "    tf.keras.layers.Dense(10, activation = 'relu'),\n",
    "    tf.keras.layers.Dense(3)\n",
    "])"
   ]
  },
  {
   "cell_type": "code",
   "execution_count": 9,
   "metadata": {},
   "outputs": [
    {
     "name": "stdout",
     "output_type": "stream",
     "text": [
      "[<tf.Variable 'dense_3/kernel:0' shape=(4, 10) dtype=float32, numpy=\n",
      "array([[ 0.25319213,  0.2199561 , -0.07004786, -0.12137997,  0.3792926 ,\n",
      "        -0.05718112, -0.21942762, -0.30973223,  0.04010844, -0.08296019],\n",
      "       [-0.32044113, -0.39131653,  0.33075982,  0.3801676 ,  0.6084789 ,\n",
      "        -0.35735786, -0.3128234 ,  0.5620549 ,  0.22276121,  0.3587581 ],\n",
      "       [-0.13409609,  0.13762605, -0.31111777,  0.31771064, -0.40550625,\n",
      "        -0.19335231, -0.37899375, -0.61762094,  0.56156015,  0.6201223 ],\n",
      "       [ 0.1514861 , -0.28585845, -0.27730268, -0.5454888 ,  0.28302914,\n",
      "         0.09362429,  0.61617124,  0.55587494,  0.33284575, -0.34226805]],\n",
      "      dtype=float32)>, <tf.Variable 'dense_3/bias:0' shape=(10,) dtype=float32, numpy=array([0., 0., 0., 0., 0., 0., 0., 0., 0., 0.], dtype=float32)>, <tf.Variable 'dense_4/kernel:0' shape=(10, 10) dtype=float32, numpy=\n",
      "array([[ 0.07353222, -0.4126212 , -0.00421041,  0.09490073, -0.4505009 ,\n",
      "         0.04421008,  0.10054654, -0.1316002 ,  0.4258561 , -0.15113646],\n",
      "       [ 0.32080466, -0.36456782,  0.464247  ,  0.03028435,  0.20648324,\n",
      "         0.5375328 , -0.07386366, -0.54201657, -0.2765557 , -0.12137783],\n",
      "       [ 0.5109583 ,  0.29465485,  0.45173836, -0.48685873, -0.4360141 ,\n",
      "        -0.4446904 ,  0.54608333, -0.2967804 ,  0.52414846, -0.22092423],\n",
      "       [ 0.0545463 ,  0.2640025 ,  0.16548043,  0.18312639, -0.12497395,\n",
      "         0.103531  ,  0.34740227, -0.43708932,  0.5332073 ,  0.33267087],\n",
      "       [ 0.21433508, -0.23215434, -0.08708432, -0.27026674,  0.41922575,\n",
      "         0.17684722,  0.29526687, -0.38769275,  0.03079498, -0.13156626],\n",
      "       [-0.06874868, -0.3541142 , -0.24374199,  0.51494765, -0.5192152 ,\n",
      "         0.3936845 , -0.38761622, -0.01655692,  0.1865384 ,  0.41650814],\n",
      "       [-0.43872833,  0.33768857,  0.06278139, -0.06490707, -0.5195885 ,\n",
      "         0.22812927, -0.44345793, -0.32446685, -0.3528898 , -0.3475868 ],\n",
      "       [-0.3175978 , -0.25842848, -0.24644357,  0.52970743, -0.39521822,\n",
      "         0.36530477,  0.4261226 , -0.3667728 , -0.44638622, -0.2617445 ],\n",
      "       [ 0.1503511 , -0.38771534, -0.19365096, -0.37715828,  0.48774016,\n",
      "         0.021272  , -0.51431274,  0.47548425,  0.04714197, -0.21868885],\n",
      "       [ 0.29651845,  0.39056242, -0.12774241, -0.27693102, -0.17191952,\n",
      "         0.2379024 ,  0.20206755,  0.4163782 ,  0.13212568,  0.0177387 ]],\n",
      "      dtype=float32)>, <tf.Variable 'dense_4/bias:0' shape=(10,) dtype=float32, numpy=array([0., 0., 0., 0., 0., 0., 0., 0., 0., 0.], dtype=float32)>, <tf.Variable 'dense_5/kernel:0' shape=(10, 3) dtype=float32, numpy=\n",
      "array([[-0.24876478,  0.57770276,  0.10907555],\n",
      "       [ 0.6011981 ,  0.56074965,  0.1965549 ],\n",
      "       [ 0.17900944,  0.5117471 ,  0.31526428],\n",
      "       [-0.6283758 ,  0.05637455,  0.38666034],\n",
      "       [ 0.4246099 , -0.566949  ,  0.02333474],\n",
      "       [-0.22706163, -0.08213192, -0.18207186],\n",
      "       [ 0.04117191,  0.48897183,  0.5473803 ],\n",
      "       [-0.32067892,  0.39635134,  0.48465264],\n",
      "       [ 0.00746828,  0.3661909 ,  0.12857848],\n",
      "       [-0.35585567,  0.3542832 , -0.3574388 ]], dtype=float32)>, <tf.Variable 'dense_5/bias:0' shape=(3,) dtype=float32, numpy=array([0., 0., 0.], dtype=float32)>]\n"
     ]
    }
   ],
   "source": [
    "# print out the variables of this model\n",
    "print(model.variables)"
   ]
  },
  {
   "cell_type": "markdown",
   "metadata": {},
   "source": [
    "### 3 Train the model\n",
    "\n",
    "Purpose: to learn enough about the structures of training dataset to make predictions"
   ]
  },
  {
   "cell_type": "markdown",
   "metadata": {},
   "source": [
    "##### 3.1 Define loss and gradient function"
   ]
  },
  {
   "cell_type": "code",
   "execution_count": 10,
   "metadata": {},
   "outputs": [],
   "source": [
    "def loss(model, x, y):\n",
    "    y_ = model(x) # predicted label\n",
    "    return tf.losses.sparse_softmax_cross_entropy(labels = y, logits = y_)\n",
    "\n",
    "def grad(model, inputs, targets):\n",
    "    \n",
    "    # grad is the amount that variables of model should change\n",
    "    with tf.GradientTape() as tape:\n",
    "        loss_value = loss(model, inputs, targets)\n",
    "    return tape.gradient(loss_value, model.variables)"
   ]
  },
  {
   "cell_type": "code",
   "execution_count": 11,
   "metadata": {
    "collapsed": true
   },
   "outputs": [
    {
     "name": "stdout",
     "output_type": "stream",
     "text": [
      "tf.Tensor(\n",
      "[[5.  3.4 1.6 0.4]\n",
      " [4.9 2.4 3.3 1. ]\n",
      " [7.2 3.6 6.1 2.5]\n",
      " [6.1 2.9 4.7 1.4]\n",
      " [5.5 3.5 1.3 0.2]\n",
      " [6.3 2.7 4.9 1.8]\n",
      " [6.1 3.  4.9 1.8]\n",
      " [4.9 3.  1.4 0.2]\n",
      " [5.6 2.9 3.6 1.3]\n",
      " [6.3 2.5 5.  1.9]\n",
      " [5.4 3.9 1.7 0.4]\n",
      " [6.2 2.8 4.8 1.8]\n",
      " [6.3 3.4 5.6 2.4]\n",
      " [5.7 3.  4.2 1.2]\n",
      " [5.7 3.8 1.7 0.3]\n",
      " [6.7 3.1 5.6 2.4]\n",
      " [5.4 3.4 1.5 0.4]\n",
      " [4.5 2.3 1.3 0.3]\n",
      " [5.3 3.7 1.5 0.2]\n",
      " [5.  3.2 1.2 0.2]\n",
      " [6.5 2.8 4.6 1.5]\n",
      " [7.9 3.8 6.4 2. ]\n",
      " [6.  3.  4.8 1.8]\n",
      " [5.1 3.5 1.4 0.3]\n",
      " [6.8 3.  5.5 2.1]\n",
      " [6.7 3.1 4.4 1.4]\n",
      " [6.4 2.8 5.6 2.2]\n",
      " [6.5 3.  5.5 1.8]\n",
      " [6.6 2.9 4.6 1.3]\n",
      " [5.8 2.7 5.1 1.9]\n",
      " [4.6 3.2 1.4 0.2]\n",
      " [6.4 2.8 5.6 2.1]], shape=(32, 4), dtype=float32)\n",
      "tf.Tensor([0 1 2 1 0 2 2 0 1 2 0 2 2 1 0 2 0 0 0 0 1 2 2 0 2 1 2 2 1 2 0 2], shape=(32,), dtype=int32)\n",
      "[<tf.Tensor: id=294, shape=(4, 10), dtype=float32, numpy=\n",
      "array([[ 0.5767548 ,  0.24268487,  1.1830034 ,  0.78754455,  0.17254424,\n",
      "         0.        ,  0.        ,  0.        , -0.87477005,  0.41630858],\n",
      "       [ 0.34881312,  0.11292319,  0.7890396 ,  0.4722119 ,  0.0817056 ,\n",
      "         0.        ,  0.        ,  0.        , -0.5283748 ,  0.3042993 ],\n",
      "       [ 0.25220913,  0.1958308 ,  0.33479667,  0.36502135,  0.12229731,\n",
      "         0.        ,  0.        ,  0.        , -0.38954955,  0.06122708],\n",
      "       [ 0.08752721,  0.07227339,  0.06350303,  0.11591214,  0.03921645,\n",
      "         0.        ,  0.        ,  0.        , -0.11960191,  0.00630413]],\n",
      "      dtype=float32)>, <tf.Tensor: id=292, shape=(10,), dtype=float32, numpy=\n",
      "array([ 0.10412627,  0.03805821,  0.2278702 ,  0.14241469,  0.02874553,\n",
      "        0.        ,  0.        ,  0.        , -0.15952346,  0.08417446],\n",
      "      dtype=float32)>, <tf.Tensor: id=290, shape=(10, 10), dtype=float32, numpy=\n",
      "array([[ 1.1747617e-02,  0.0000000e+00,  0.0000000e+00,  0.0000000e+00,\n",
      "        -1.4875073e-02,  2.5545494e-03,  9.5567713e-03, -1.8835196e-02,\n",
      "         6.0513397e-03,  0.0000000e+00],\n",
      "       [ 4.4234842e-04,  0.0000000e+00,  0.0000000e+00,  0.0000000e+00,\n",
      "        -2.0053785e-03,  1.0114738e-03,  2.3590820e-03, -2.9401366e-02,\n",
      "         1.9906848e-03,  0.0000000e+00],\n",
      "       [ 3.5145108e-02,  0.0000000e+00,  0.0000000e+00,  0.0000000e+00,\n",
      "        -4.1343071e-02,  5.6421999e-03,  2.8201506e-02,  0.0000000e+00,\n",
      "         1.4251323e-02,  0.0000000e+00],\n",
      "       [ 1.4228481e-01,  0.0000000e+00,  0.0000000e+00,  0.0000000e+00,\n",
      "        -1.7074005e-01,  2.4972094e-02,  1.2033212e-01, -6.9163106e-02,\n",
      "         6.1798152e-02,  0.0000000e+00],\n",
      "       [ 5.2237844e-01,  0.0000000e+00,  0.0000000e+00,  0.0000000e+00,\n",
      "        -6.2414002e-01,  8.9966550e-02,  4.3434507e-01, -1.9426793e-01,\n",
      "         2.2358014e-01,  0.0000000e+00],\n",
      "       [ 0.0000000e+00,  0.0000000e+00,  0.0000000e+00,  0.0000000e+00,\n",
      "         0.0000000e+00,  0.0000000e+00,  0.0000000e+00,  0.0000000e+00,\n",
      "         0.0000000e+00,  0.0000000e+00],\n",
      "       [ 0.0000000e+00,  0.0000000e+00,  0.0000000e+00,  0.0000000e+00,\n",
      "         0.0000000e+00,  0.0000000e+00,  0.0000000e+00,  0.0000000e+00,\n",
      "         0.0000000e+00,  0.0000000e+00],\n",
      "       [ 0.0000000e+00,  0.0000000e+00,  0.0000000e+00,  0.0000000e+00,\n",
      "         0.0000000e+00,  0.0000000e+00,  0.0000000e+00,  0.0000000e+00,\n",
      "         0.0000000e+00,  0.0000000e+00],\n",
      "       [ 3.3099416e-01,  0.0000000e+00,  0.0000000e+00,  0.0000000e+00,\n",
      "        -4.1025978e-01,  6.6369735e-02,  2.3265678e-01, -3.1609645e-01,\n",
      "         1.5970241e-01,  0.0000000e+00],\n",
      "       [ 2.6322410e-01,  0.0000000e+00,  0.0000000e+00,  0.0000000e+00,\n",
      "        -3.2331535e-01,  5.0915688e-02,  1.9792441e-01, -2.2000334e-01,\n",
      "         1.2341178e-01,  0.0000000e+00]], dtype=float32)>, <tf.Tensor: id=288, shape=(10,), dtype=float32, numpy=\n",
      "array([ 0.1481334 ,  0.        ,  0.        ,  0.        , -0.17784701,\n",
      "        0.02605472,  0.12467479, -0.07260575,  0.0644465 ,  0.        ],\n",
      "      dtype=float32)>, <tf.Tensor: id=286, shape=(10, 3), dtype=float32, numpy=\n",
      "array([[-0.24641106,  0.38053465, -0.13412358],\n",
      "       [ 0.        ,  0.        ,  0.        ],\n",
      "       [ 0.        ,  0.        ,  0.        ],\n",
      "       [ 0.        ,  0.        ,  0.        ],\n",
      "       [-0.27137423,  0.42627704, -0.15490282],\n",
      "       [-0.13917644,  0.2392096 , -0.10003316],\n",
      "       [-0.22348577,  0.11224802,  0.11123776],\n",
      "       [ 0.12684527,  0.17881387, -0.30565915],\n",
      "       [-0.17931359,  0.21653117, -0.0372176 ],\n",
      "       [ 0.        ,  0.        ,  0.        ]], dtype=float32)>, <tf.Tensor: id=284, shape=(3,), dtype=float32, numpy=array([-0.17674737,  0.18113777, -0.0043904 ], dtype=float32)>]\n",
      "tf.Tensor(1.0121382, shape=(), dtype=float32)\n",
      "tf.Tensor(\n",
      "[[5.  3.5 1.3 0.3]\n",
      " [5.8 4.  1.2 0.2]\n",
      " [4.4 3.  1.3 0.2]\n",
      " [5.2 3.4 1.4 0.2]\n",
      " [7.6 3.  6.6 2.1]\n",
      " [4.6 3.1 1.5 0.2]\n",
      " [6.9 3.1 5.1 2.3]\n",
      " [5.5 2.6 4.4 1.2]\n",
      " [5.1 2.5 3.  1.1]\n",
      " [5.1 3.8 1.9 0.4]\n",
      " [7.3 2.9 6.3 1.8]\n",
      " [5.8 2.7 5.1 1.9]\n",
      " [5.  3.6 1.4 0.2]\n",
      " [7.7 2.6 6.9 2.3]\n",
      " [5.5 2.4 3.7 1. ]\n",
      " [5.7 2.8 4.1 1.3]\n",
      " [5.  2.  3.5 1. ]\n",
      " [5.4 3.9 1.3 0.4]\n",
      " [5.  3.  1.6 0.2]\n",
      " [6.8 3.2 5.9 2.3]\n",
      " [4.6 3.4 1.4 0.3]\n",
      " [6.4 2.7 5.3 1.9]\n",
      " [5.8 2.8 5.1 2.4]\n",
      " [5.8 2.7 4.1 1. ]\n",
      " [4.4 2.9 1.4 0.2]\n",
      " [4.9 2.5 4.5 1.7]\n",
      " [5.6 2.7 4.2 1.3]\n",
      " [5.2 2.7 3.9 1.4]\n",
      " [5.9 3.2 4.8 1.8]\n",
      " [6.2 2.2 4.5 1.5]\n",
      " [4.8 3.  1.4 0.1]\n",
      " [6.3 3.3 4.7 1.6]], shape=(32, 4), dtype=float32)\n",
      "tf.Tensor([0 0 0 0 2 0 2 1 1 0 2 2 0 2 1 1 1 0 0 2 0 2 2 1 0 2 1 1 1 1 0 1], shape=(32,), dtype=int32)\n",
      "[<tf.Tensor: id=431, shape=(4, 10), dtype=float32, numpy=\n",
      "array([[ 0.32581115,  0.1818297 ,  1.3660288 ,  0.61516166,  0.22461516,\n",
      "         0.        ,  0.        ,  0.        , -0.72775316,  0.28186753],\n",
      "       [ 0.24919847,  0.08064687,  0.9360411 ,  0.40903324,  0.10593625,\n",
      "         0.        ,  0.        ,  0.        , -0.48105603,  0.26467928],\n",
      "       [ 0.02953035,  0.14765355,  0.3927397 ,  0.21358612,  0.16258454,\n",
      "         0.        ,  0.        ,  0.        , -0.25568897, -0.06031439],\n",
      "       [-0.00255574,  0.05275364,  0.06676162,  0.05272184,  0.05247561,\n",
      "         0.        ,  0.        ,  0.        , -0.06188058, -0.04302251]],\n",
      "      dtype=float32)>, <tf.Tensor: id=429, shape=(10,), dtype=float32, numpy=\n",
      "array([ 0.06257635,  0.02943754,  0.2760093 ,  0.11746712,  0.04036293,\n",
      "        0.        ,  0.        ,  0.        , -0.14004454,  0.0620785 ],\n",
      "      dtype=float32)>, <tf.Tensor: id=427, shape=(10, 10), dtype=float32, numpy=\n",
      "array([[-0.00570583,  0.        ,  0.        ,  0.        ,  0.00657903,\n",
      "        -0.00083176,  0.00437368, -0.01663353, -0.00215144,  0.        ],\n",
      "       [-0.0181073 ,  0.        ,  0.        ,  0.        ,  0.02120862,\n",
      "        -0.00284871,  0.00150589, -0.02721244, -0.00723033,  0.        ],\n",
      "       [ 0.04572341,  0.        ,  0.        ,  0.        , -0.0538036 ,\n",
      "         0.00735102,  0.03650389,  0.        ,  0.01856119,  0.        ],\n",
      "       [ 0.11211637,  0.        ,  0.        ,  0.        , -0.13058275,\n",
      "         0.01717227,  0.13890833, -0.05506946,  0.04387052,  0.        ],\n",
      "       [ 0.42212442,  0.        ,  0.        ,  0.        , -0.4930026 ,\n",
      "         0.06551014,  0.47267732, -0.15087369,  0.16682279,  0.        ],\n",
      "       [ 0.        ,  0.        ,  0.        ,  0.        ,  0.        ,\n",
      "         0.        ,  0.        ,  0.        ,  0.        ,  0.        ],\n",
      "       [ 0.        ,  0.        ,  0.        ,  0.        ,  0.        ,\n",
      "         0.        ,  0.        ,  0.        ,  0.        ,  0.        ],\n",
      "       [ 0.        ,  0.        ,  0.        ,  0.        ,  0.        ,\n",
      "         0.        ,  0.        ,  0.        ,  0.        ,  0.        ],\n",
      "       [ 0.12738828,  0.        ,  0.        ,  0.        , -0.15047917,\n",
      "         0.02084703,  0.25254586, -0.25093654,  0.05241876,  0.        ],\n",
      "       [ 0.13128847,  0.        ,  0.        ,  0.        , -0.15391341,\n",
      "         0.02074252,  0.22114843, -0.17547923,  0.05259306,  0.        ]],\n",
      "      dtype=float32)>, <tf.Tensor: id=425, shape=(10,), dtype=float32, numpy=\n",
      "array([ 0.10217048,  0.        ,  0.        ,  0.        , -0.11859144,\n",
      "        0.01539099,  0.1377423 , -0.06080167,  0.03948199,  0.        ],\n",
      "      dtype=float32)>, <tf.Tensor: id=423, shape=(10, 3), dtype=float32, numpy=\n",
      "array([[-0.30635935,  0.13268672,  0.17367259],\n",
      "       [ 0.        ,  0.        ,  0.        ],\n",
      "       [ 0.        ,  0.        ,  0.        ],\n",
      "       [ 0.        ,  0.        ,  0.        ],\n",
      "       [-0.32522267,  0.13877332,  0.18644933],\n",
      "       [-0.1680687 ,  0.06346767,  0.10460106],\n",
      "       [-0.25790557,  0.13129754,  0.12660804],\n",
      "       [ 0.11619771, -0.00789441, -0.10830334],\n",
      "       [-0.22277918,  0.09166517,  0.13111398],\n",
      "       [ 0.        ,  0.        ,  0.        ]], dtype=float32)>, <tf.Tensor: id=421, shape=(3,), dtype=float32, numpy=array([-0.20425433,  0.0620536 ,  0.1422007 ], dtype=float32)>]\n",
      "tf.Tensor(1.0710163, shape=(), dtype=float32)\n",
      "tf.Tensor(\n",
      "[[4.9 3.1 1.5 0.1]\n",
      " [6.3 3.3 6.  2.5]\n",
      " [4.7 3.2 1.3 0.2]\n",
      " [5.4 3.7 1.5 0.2]\n",
      " [5.  3.3 1.4 0.2]\n",
      " [4.4 3.2 1.3 0.2]\n",
      " [6.7 3.  5.2 2.3]\n",
      " [6.5 3.  5.8 2.2]\n",
      " [5.6 2.5 3.9 1.1]\n",
      " [6.7 3.  5.  1.7]\n",
      " [5.5 2.4 3.8 1.1]\n",
      " [5.7 2.9 4.2 1.3]\n",
      " [6.9 3.1 4.9 1.5]\n",
      " [5.  3.5 1.6 0.6]\n",
      " [6.8 2.8 4.8 1.4]\n",
      " [6.4 3.2 4.5 1.5]\n",
      " [6.  2.9 4.5 1.5]\n",
      " [7.4 2.8 6.1 1.9]\n",
      " [6.4 3.2 5.3 2.3]\n",
      " [5.1 3.7 1.5 0.4]\n",
      " [6.2 3.4 5.4 2.3]\n",
      " [5.  3.4 1.5 0.2]\n",
      " [6.1 2.8 4.  1.3]\n",
      " [7.7 3.  6.1 2.3]\n",
      " [4.6 3.6 1.  0.2]\n",
      " [4.8 3.4 1.6 0.2]\n",
      " [4.8 3.1 1.6 0.2]\n",
      " [6.7 3.3 5.7 2.1]\n",
      " [6.4 3.1 5.5 1.8]\n",
      " [4.9 3.1 1.5 0.1]\n",
      " [7.2 3.2 6.  1.8]\n",
      " [5.2 3.5 1.5 0.2]], shape=(32, 4), dtype=float32)\n",
      "tf.Tensor([0 2 0 0 0 0 2 2 1 1 1 1 1 0 1 1 1 2 2 0 2 0 1 2 0 0 0 2 2 0 2 0], shape=(32,), dtype=int32)\n",
      "[<tf.Tensor: id=568, shape=(4, 10), dtype=float32, numpy=\n",
      "array([[ 4.1698298e-01,  1.8828695e-01,  1.4680469e+00,  7.1548218e-01,\n",
      "         1.9927356e-01,  0.0000000e+00,  0.0000000e+00,  2.5565743e-02,\n",
      "        -8.2764435e-01,  3.9359868e-01],\n",
      "       [ 3.0594349e-01,  8.6809509e-02,  1.0086566e+00,  4.7801033e-01,\n",
      "         9.1354281e-02,  0.0000000e+00,  0.0000000e+00,  2.0007974e-02,\n",
      "        -5.5031204e-01,  3.3761707e-01],\n",
      "       [ 1.1387241e-01,  1.5322976e-01,  4.3160337e-01,  2.7481174e-01,\n",
      "         1.4273581e-01,  0.0000000e+00,  0.0000000e+00,  5.5577704e-03,\n",
      "        -3.1399983e-01,  8.5267425e-03],\n",
      "       [ 2.5245344e-02,  5.5797528e-02,  6.8242520e-02,  7.1137317e-02,\n",
      "         4.5456193e-02,  0.0000000e+00,  0.0000000e+00,  1.1115541e-03,\n",
      "        -7.8374043e-02, -2.3399824e-02]], dtype=float32)>, <tf.Tensor: id=566, shape=(10,), dtype=float32, numpy=\n",
      "array([ 0.08406403,  0.02853712,  0.29923168,  0.13929406,  0.0321946 ,\n",
      "        0.        ,  0.        ,  0.00555777, -0.16153754,  0.09091062],\n",
      "      dtype=float32)>, <tf.Tensor: id=564, shape=(10, 10), dtype=float32, numpy=\n",
      "array([[-8.0161523e-03,  0.0000000e+00,  0.0000000e+00,  0.0000000e+00,\n",
      "         9.4340388e-03, -1.2895752e-03,  3.3367882e-03, -1.5515651e-02,\n",
      "        -3.2556711e-03,  0.0000000e+00],\n",
      "       [-1.9314896e-02,  0.0000000e+00,  0.0000000e+00,  0.0000000e+00,\n",
      "         2.2789147e-02, -3.1438838e-03,  1.0358046e-03, -2.5186084e-02,\n",
      "        -7.9151290e-03,  0.0000000e+00],\n",
      "       [ 4.8480943e-02,  0.0000000e+00,  0.0000000e+00,  0.0000000e+00,\n",
      "        -5.7057001e-02,  7.7997721e-03,  3.8610067e-02,  0.0000000e+00,\n",
      "         1.9691039e-02,  0.0000000e+00],\n",
      "       [ 1.5040633e-01,  0.0000000e+00,  0.0000000e+00,  0.0000000e+00,\n",
      "        -1.7731154e-01,  2.4387201e-02,  1.5214083e-01, -5.6910351e-02,\n",
      "         6.1453756e-02,  0.0000000e+00],\n",
      "       [ 5.2014560e-01,  0.0000000e+00,  0.0000000e+00,  0.0000000e+00,\n",
      "        -6.1272192e-01,  8.4040530e-02,  5.0612462e-01, -1.5658654e-01,\n",
      "         2.1195164e-01,  0.0000000e+00],\n",
      "       [ 0.0000000e+00,  0.0000000e+00,  0.0000000e+00,  0.0000000e+00,\n",
      "         0.0000000e+00,  0.0000000e+00,  0.0000000e+00,  0.0000000e+00,\n",
      "         0.0000000e+00,  0.0000000e+00],\n",
      "       [ 0.0000000e+00,  0.0000000e+00,  0.0000000e+00,  0.0000000e+00,\n",
      "         0.0000000e+00,  0.0000000e+00,  0.0000000e+00,  0.0000000e+00,\n",
      "         0.0000000e+00,  0.0000000e+00],\n",
      "       [ 1.4284985e-03,  0.0000000e+00,  0.0000000e+00,  0.0000000e+00,\n",
      "        -1.6829426e-03,  2.3092930e-04,  1.1181708e-03,  0.0000000e+00,\n",
      "         5.8233313e-04,  0.0000000e+00],\n",
      "       [ 2.3100683e-01,  0.0000000e+00,  0.0000000e+00,  0.0000000e+00,\n",
      "        -2.7830455e-01,  4.1239578e-02,  2.7372688e-01, -2.5675064e-01,\n",
      "         1.0167313e-01,  0.0000000e+00],\n",
      "       [ 2.1316920e-01,  0.0000000e+00,  0.0000000e+00,  0.0000000e+00,\n",
      "        -2.5456041e-01,  3.6627512e-02,  2.4157269e-01, -1.7956474e-01,\n",
      "         9.1072574e-02,  0.0000000e+00]], dtype=float32)>, <tf.Tensor: id=562, shape=(10,), dtype=float32, numpy=\n",
      "array([ 0.14324911,  0.        ,  0.        ,  0.        , -0.1686658 ,\n",
      "        0.02309488,  0.1492201 , -0.05742107,  0.05827551,  0.        ],\n",
      "      dtype=float32)>, <tf.Tensor: id=560, shape=(10, 3), dtype=float32, numpy=\n",
      "array([[-0.34919932,  0.2351656 ,  0.11403372],\n",
      "       [ 0.        ,  0.        ,  0.        ],\n",
      "       [ 0.        ,  0.        ,  0.        ],\n",
      "       [ 0.        ,  0.        ,  0.        ],\n",
      "       [-0.36897558,  0.2585652 ,  0.11041042],\n",
      "       [-0.19722643,  0.12981732,  0.06740911],\n",
      "       [-0.2774037 ,  0.14168528,  0.13571844],\n",
      "       [ 0.11292768,  0.05241125, -0.16533893],\n",
      "       [-0.25099075,  0.1539768 ,  0.09701395],\n",
      "       [ 0.        ,  0.        ,  0.        ]], dtype=float32)>, <tf.Tensor: id=558, shape=(3,), dtype=float32, numpy=array([-0.23798558,  0.12395411,  0.11403147], dtype=float32)>]\n",
      "tf.Tensor(1.0760622, shape=(), dtype=float32)\n",
      "tf.Tensor(\n",
      "[[6.5 3.  5.2 2. ]\n",
      " [6.3 2.3 4.4 1.3]\n",
      " [6.5 3.2 5.1 2. ]\n",
      " [5.9 3.  5.1 1.8]\n",
      " [5.1 3.8 1.6 0.2]\n",
      " [5.7 4.4 1.5 0.4]\n",
      " [6.  2.2 5.  1.5]\n",
      " [7.7 3.8 6.7 2.2]\n",
      " [7.  3.2 4.7 1.4]\n",
      " [5.8 2.6 4.  1.2]\n",
      " [6.  2.7 5.1 1.6]\n",
      " [4.8 3.  1.4 0.3]\n",
      " [6.1 2.6 5.6 1.4]\n",
      " [5.  2.3 3.3 1. ]\n",
      " [6.9 3.2 5.7 2.3]\n",
      " [4.7 3.2 1.6 0.2]\n",
      " [5.1 3.8 1.5 0.3]\n",
      " [5.4 3.  4.5 1.5]\n",
      " [7.2 3.  5.8 1.6]\n",
      " [4.9 3.1 1.5 0.1]\n",
      " [7.7 2.8 6.7 2. ]\n",
      " [5.7 2.8 4.5 1.3]\n",
      " [6.6 3.  4.4 1.4]\n",
      " [6.1 2.8 4.7 1.2]], shape=(24, 4), dtype=float32)\n",
      "tf.Tensor([2 1 2 2 0 0 2 2 1 1 1 0 2 1 2 0 0 1 2 0 2 1 1 1], shape=(24,), dtype=int32)\n",
      "[<tf.Tensor: id=707, shape=(4, 10), dtype=float32, numpy=\n",
      "array([[-0.02164971,  0.23027514,  0.94348496,  0.48831853,  0.24748185,\n",
      "         0.        ,  0.        ,  0.0420301 , -0.57300067,  0.07277258],\n",
      "       [ 0.00915061,  0.10256578,  0.66521126,  0.3210912 ,  0.11304522,\n",
      "         0.        ,  0.        ,  0.03244429, -0.3746799 ,  0.13976902],\n",
      "       [-0.03697089,  0.18628684,  0.28302425,  0.21420461,  0.18074657,\n",
      "         0.        ,  0.        ,  0.01106055, -0.24835685, -0.11986063],\n",
      "       [-0.00984029,  0.06061099,  0.04681429,  0.0555726 ,  0.05515292,\n",
      "         0.        ,  0.        ,  0.00294948, -0.06303061, -0.05166703]],\n",
      "      dtype=float32)>, <tf.Tensor: id=705, shape=(10,), dtype=float32, numpy=\n",
      "array([-0.00542657,  0.03549008,  0.18645073,  0.08794343,  0.04152696,\n",
      "        0.        ,  0.        ,  0.0073737 , -0.10432992,  0.02255457],\n",
      "      dtype=float32)>, <tf.Tensor: id=703, shape=(10, 10), dtype=float32, numpy=\n",
      "array([[-1.0014959e-02,  0.0000000e+00,  0.0000000e+00,  0.0000000e+00,\n",
      "         1.1657413e-02, -1.5294540e-03,  2.5733064e-03, -1.9113660e-02,\n",
      "        -3.9101625e-03,  0.0000000e+00],\n",
      "       [-2.0344310e-02,  0.0000000e+00,  0.0000000e+00,  0.0000000e+00,\n",
      "         2.3370929e-02, -2.9106885e-03,  6.4776512e-04, -3.6987051e-02,\n",
      "        -7.5651333e-03,  0.0000000e+00],\n",
      "       [ 3.3093967e-02,  0.0000000e+00,  0.0000000e+00,  0.0000000e+00,\n",
      "        -3.8959734e-02,  5.3316075e-03,  2.6226817e-02,  0.0000000e+00,\n",
      "         1.3455599e-02,  0.0000000e+00],\n",
      "       [ 7.5467005e-02,  0.0000000e+00,  0.0000000e+00,  0.0000000e+00,\n",
      "        -8.9334935e-02,  1.2469531e-02,  1.0068500e-01, -7.3912516e-02,\n",
      "         3.1283718e-02,  0.0000000e+00],\n",
      "       [ 2.6529771e-01,  0.0000000e+00,  0.0000000e+00,  0.0000000e+00,\n",
      "        -3.1202784e-01,  4.2555444e-02,  3.2841769e-01, -1.8341783e-01,\n",
      "         1.0750974e-01,  0.0000000e+00],\n",
      "       [ 0.0000000e+00,  0.0000000e+00,  0.0000000e+00,  0.0000000e+00,\n",
      "         0.0000000e+00,  0.0000000e+00,  0.0000000e+00,  0.0000000e+00,\n",
      "         0.0000000e+00,  0.0000000e+00],\n",
      "       [ 0.0000000e+00,  0.0000000e+00,  0.0000000e+00,  0.0000000e+00,\n",
      "         0.0000000e+00,  0.0000000e+00,  0.0000000e+00,  0.0000000e+00,\n",
      "         0.0000000e+00,  0.0000000e+00],\n",
      "       [ 7.1025075e-05,  0.0000000e+00,  0.0000000e+00,  0.0000000e+00,\n",
      "        -8.3625637e-05,  1.1449895e-05,  5.6157071e-05,  0.0000000e+00,\n",
      "         2.8892156e-05,  0.0000000e+00],\n",
      "       [ 6.5149426e-02,  0.0000000e+00,  0.0000000e+00,  0.0000000e+00,\n",
      "        -8.2587056e-02,  1.4226120e-02,  1.7913054e-01, -3.0740932e-01,\n",
      "         3.3673272e-02,  0.0000000e+00],\n",
      "       [ 7.7175409e-02,  0.0000000e+00,  0.0000000e+00,  0.0000000e+00,\n",
      "        -9.4542578e-02,  1.4769060e-02,  1.5888715e-01, -2.2103876e-01,\n",
      "         3.5877086e-02,  0.0000000e+00]], dtype=float32)>, <tf.Tensor: id=701, shape=(10,), dtype=float32, numpy=\n",
      "array([ 0.05695032,  0.        ,  0.        ,  0.        , -0.06678732,\n",
      "        0.00901209,  0.0926789 , -0.07133816,  0.02284156,  0.        ],\n",
      "      dtype=float32)>, <tf.Tensor: id=699, shape=(10, 3), dtype=float32, numpy=\n",
      "array([[-0.12872848,  0.12209736,  0.00663115],\n",
      "       [ 0.        ,  0.        ,  0.        ],\n",
      "       [ 0.        ,  0.        ,  0.        ],\n",
      "       [ 0.        ,  0.        ,  0.        ],\n",
      "       [-0.13399619,  0.12419362,  0.00980252],\n",
      "       [-0.05393128,  0.0621144 , -0.00818312],\n",
      "       [-0.1816593 ,  0.09373181,  0.08792749],\n",
      "       [ 0.13599409,  0.0306288 , -0.16662288],\n",
      "       [-0.11530609,  0.08341856,  0.03188751],\n",
      "       [ 0.        ,  0.        ,  0.        ]], dtype=float32)>, <tf.Tensor: id=697, shape=(3,), dtype=float32, numpy=array([-0.10002654,  0.04514633,  0.05488022], dtype=float32)>]\n",
      "tf.Tensor(0.9932845, shape=(), dtype=float32)\n"
     ]
    }
   ],
   "source": [
    "for x,y in train_dataset:\n",
    "    print(x)\n",
    "    print(y)\n",
    "    print(grad(model, x, y))\n",
    "    print(loss(model,x,y))"
   ]
  },
  {
   "cell_type": "markdown",
   "metadata": {},
   "source": [
    "##### 3.2 Create an optimizer"
   ]
  },
  {
   "cell_type": "code",
   "execution_count": 12,
   "metadata": {},
   "outputs": [],
   "source": [
    "# stochastic gradient descent\n",
    "optimizer = tf.train.GradientDescentOptimizer(learning_rate = 0.01)"
   ]
  },
  {
   "cell_type": "markdown",
   "metadata": {},
   "source": [
    "##### 3.3 Training loop"
   ]
  },
  {
   "cell_type": "code",
   "execution_count": 15,
   "metadata": {},
   "outputs": [
    {
     "name": "stdout",
     "output_type": "stream",
     "text": [
      "Epoch 000: Loss: 2.157, Accuracy: 30.000%\n",
      "Epoch 050: Loss: 0.596, Accuracy: 70.000%\n",
      "Epoch 100: Loss: 0.432, Accuracy: 72.500%\n",
      "Epoch 150: Loss: 0.331, Accuracy: 91.667%\n",
      "Epoch 200: Loss: 0.234, Accuracy: 97.500%\n",
      "Epoch 250: Loss: 0.162, Accuracy: 98.333%\n",
      "Epoch 300: Loss: 0.128, Accuracy: 98.333%\n",
      "Epoch 350: Loss: 0.097, Accuracy: 97.500%\n",
      "Epoch 400: Loss: 0.090, Accuracy: 96.667%\n",
      "Epoch 450: Loss: 0.083, Accuracy: 98.333%\n",
      "Epoch 500: Loss: 0.079, Accuracy: 98.333%\n"
     ]
    }
   ],
   "source": [
    "\n",
    "# keep results for plotting\n",
    "train_loss = []\n",
    "train_accuracy = []\n",
    "\n",
    "num_epoches = 501\n",
    "\n",
    "for epoch in range(num_epoches):\n",
    "    \n",
    "    # I knew tfe.metrics only after writing this code\n",
    "    epoch_loss_avg = tfe.metrics.Mean()\n",
    "    epoch_accuracy = tfe.metrics.Accuracy()\n",
    "    \n",
    "    # training loop, batches of 32\n",
    "    for x, y in train_dataset:\n",
    "        \n",
    "        # optimize the model\n",
    "        grads = grad(model, x, y)\n",
    "        optimizer.apply_gradients(zip(grads, model.variables),\n",
    "                                 global_step = tf.train.get_or_create_global_step())\n",
    "        \n",
    "        # track progress\n",
    "        epoch_loss_avg(loss(model, x, y))\n",
    "        epoch_accuracy(tf.argmax(model(x), axis = 1, output_type = tf.int32), y)\n",
    "    \n",
    "    train_loss.append(epoch_loss_avg.result())\n",
    "    train_accuracy.append(epoch_accuracy.result())\n",
    "    \n",
    "    if epoch % 50 == 0:\n",
    "        print(\"Epoch {:03d}: Loss: {:.3f}, Accuracy: {:.3%}\".format(epoch,\n",
    "                                                                   epoch_loss_avg.result(),\n",
    "                                                                   epoch_accuracy.result()))"
   ]
  },
  {
   "cell_type": "code",
   "execution_count": 16,
   "metadata": {},
   "outputs": [
    {
     "name": "stdout",
     "output_type": "stream",
     "text": [
      "tf.Tensor(0.07901638373732567, shape=(), dtype=float64)\n"
     ]
    }
   ],
   "source": [
    "print(epoch_loss_avg.result())"
   ]
  },
  {
   "cell_type": "markdown",
   "metadata": {},
   "source": [
    "##### 3.4 Visualize loss function over time"
   ]
  },
  {
   "cell_type": "code",
   "execution_count": 17,
   "metadata": {},
   "outputs": [
    {
     "data": {
      "image/png": "[encoded data removed]",
      "text/plain": [
       "<Figure size 864x576 with 2 Axes>"
      ]
     },
     "metadata": {},
     "output_type": "display_data"
    }
   ],
   "source": [
    "fig, axes = plt.subplots(2, sharex = True, figsize = (12,8))\n",
    "\n",
    "fig.suptitle('Training Metrics', fontsize = 18)\n",
    "\n",
    "axes[0].set_ylabel('Loss', fontsize = 14)\n",
    "axes[0].plot(train_loss)\n",
    "\n",
    "axes[1].set_ylabel('Accuracy', fontsize = 14)\n",
    "axes[1].set_xlabel('Epoch', fontsize = 14)\n",
    "axes[1].plot(train_accuracy)\n",
    "\n",
    "plt.show()"
   ]
  },
  {
   "cell_type": "markdown",
   "metadata": {},
   "source": [
    "### 4 Evaluate the model's effectiveness"
   ]
  },
  {
   "cell_type": "markdown",
   "metadata": {},
   "source": [
    "##### 4.1 Setup the test dataset"
   ]
  },
  {
   "cell_type": "code",
   "execution_count": null,
   "metadata": {},
   "outputs": [],
   "source": [
    "test_dataset_filepath = '/Users/Yang/Documents/iris_test.csv'\n",
    "\n",
    "test_dataset = tf.data.TextLineDataset(test_dataset_filepath)\n",
    "test_dataset = test_dataset.skip(1)\n",
    "test_dataset = test_dataset.map(parse_csv)\n",
    "test_dataset = test_dataset.shuffle(1000)\n",
    "test_dataset = test_dataset.batch(32)"
   ]
  },
  {
   "cell_type": "markdown",
   "metadata": {},
   "source": [
    "##### 4.2 Evaluate the model on the test dataset"
   ]
  },
  {
   "cell_type": "code",
   "execution_count": null,
   "metadata": {},
   "outputs": [],
   "source": [
    "test_accuracy = tfe.metrics.Accuracy()\n",
    "\n",
    "for x,y in test_dataset:\n",
    "    predictions = tf.argmax(model(x), axis = 1, output_type = tf.int32)\n",
    "    test_accuracy(predictions, y)\n",
    "\n",
    "print(\"Test Accuracy: {:.3%}\".format(test_accuracy.result()))"
   ]
  },
  {
   "cell_type": "markdown",
   "metadata": {},
   "source": [
    "### 5 Use the trained model to make predictions"
   ]
  },
  {
   "cell_type": "code",
   "execution_count": null,
   "metadata": {},
   "outputs": [],
   "source": [
    "class_ids = [\"Iris setosa\",\"Iris versicolor\",\"Iris virginica\"]\n",
    "\n",
    "predict_dataset = tf.convert_to_tensor([\n",
    "    [5.1, 3.3, 1.7, 0.5,],\n",
    "    [5.9, 5.0, 4.2, 1.5,],\n",
    "    [6.9, 3.1, 5.4, 2.1,]\n",
    "])\n",
    "\n",
    "predictions = model(predict_dataset)\n",
    "\n",
    "for i, logits in enumerate(predictions):\n",
    "    class_index = tf.argmax(logits).numpy()\n",
    "    name = class_ids[class_index]\n",
    "    print(\"Example {}, prediction: {}\".format(i, name))"
   ]
  },
  {
   "cell_type": "code",
   "execution_count": null,
   "metadata": {},
   "outputs": [],
   "source": []
  }
 ],
 "metadata": {
  "kernelspec": {
   "display_name": "Python 3",
   "language": "python",
   "name": "python3"
  },
  "language_info": {
   "codemirror_mode": {
    "name": "ipython",
    "version": 3
   },
   "file_extension": ".py",
   "mimetype": "text/x-python",
   "name": "python",
   "nbconvert_exporter": "python",
   "pygments_lexer": "ipython3",
   "version": "3.6.4"
  }
 },
 "nbformat": 4,
 "nbformat_minor": 2
}
