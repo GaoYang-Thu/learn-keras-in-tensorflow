{
 "cells": [
  {
   "cell_type": "markdown",
   "metadata": {},
   "source": [
    "## Implement MLP using Keras for classfication \n",
    "* Author: Gao Yang"
   ]
  },
  {
   "cell_type": "code",
   "execution_count": 9,
   "metadata": {},
   "outputs": [],
   "source": [
    "import keras\n",
    "from keras.models import Sequential\n",
    "from keras.layers import Dense, Dropout, Activation\n",
    "from keras.optimizers import SGD"
   ]
  },
  {
   "cell_type": "markdown",
   "metadata": {},
   "source": [
    "#### Create dataset"
   ]
  },
  {
   "cell_type": "code",
   "execution_count": 18,
   "metadata": {},
   "outputs": [],
   "source": [
    "import numpy as np\n",
    "\n",
    "train_x = np.random.random((1000,20))\n",
    "train_y = keras.utils.to_categorical(np.random.randint(10, size = (1000,1)),num_classes = 10)\n",
    "\n",
    "test_x = np.random.random((100,20))\n",
    "test_y = keras.utils.to_categorical(np.random.randint(10, size = (100,1)), num_classes = 10)"
   ]
  },
  {
   "cell_type": "markdown",
   "metadata": {},
   "source": [
    "#### Setup model"
   ]
  },
  {
   "cell_type": "code",
   "execution_count": 14,
   "metadata": {},
   "outputs": [],
   "source": [
    "model = Sequential()\n",
    "model.add(Dense(64, activation='relu', input_dim = 20))\n",
    "model.add(Dropout(0.4))\n",
    "model.add(Dense(64, activation='relu'))\n",
    "model.add(Dropout(0.4))\n",
    "model.add(Dense(10, activation='softmax'))\n",
    "\n",
    "sgd = SGD(lr=0.01, decay=1e-6, momentum=0.9, nesterov=True)\n",
    "\n",
    "model.compile(optimizer=sgd,\n",
    "             loss='categorical_crossentropy',\n",
    "             metrics=['accuracy'])"
   ]
  },
  {
   "cell_type": "markdown",
   "metadata": {},
   "source": [
    "#### Train the model"
   ]
  },
  {
   "cell_type": "code",
   "execution_count": 16,
   "metadata": {
    "collapsed": true
   },
   "outputs": [
    {
     "name": "stdout",
     "output_type": "stream",
     "text": [
      "Epoch 1/20\n",
      "1000/1000 [==============================] - 0s 499us/step - loss: 2.3670 - acc: 0.1130\n",
      "Epoch 2/20\n",
      "1000/1000 [==============================] - 0s 42us/step - loss: 2.3434 - acc: 0.0980\n",
      "Epoch 3/20\n",
      "1000/1000 [==============================] - 0s 40us/step - loss: 2.3294 - acc: 0.0970\n",
      "Epoch 4/20\n",
      "1000/1000 [==============================] - 0s 35us/step - loss: 2.3093 - acc: 0.1180\n",
      "Epoch 5/20\n",
      "1000/1000 [==============================] - 0s 28us/step - loss: 2.3066 - acc: 0.1140\n",
      "Epoch 6/20\n",
      "1000/1000 [==============================] - 0s 41us/step - loss: 2.3107 - acc: 0.1010\n",
      "Epoch 7/20\n",
      "1000/1000 [==============================] - 0s 46us/step - loss: 2.2982 - acc: 0.1280\n",
      "Epoch 8/20\n",
      "1000/1000 [==============================] - 0s 68us/step - loss: 2.3108 - acc: 0.1160\n",
      "Epoch 9/20\n",
      "1000/1000 [==============================] - 0s 70us/step - loss: 2.3030 - acc: 0.1160\n",
      "Epoch 10/20\n",
      "1000/1000 [==============================] - 0s 40us/step - loss: 2.3057 - acc: 0.1020\n",
      "Epoch 11/20\n",
      "1000/1000 [==============================] - 0s 36us/step - loss: 2.2964 - acc: 0.1160\n",
      "Epoch 12/20\n",
      "1000/1000 [==============================] - 0s 40us/step - loss: 2.3008 - acc: 0.1190\n",
      "Epoch 13/20\n",
      "1000/1000 [==============================] - 0s 39us/step - loss: 2.2889 - acc: 0.1320\n",
      "Epoch 14/20\n",
      "1000/1000 [==============================] - 0s 39us/step - loss: 2.2987 - acc: 0.1170\n",
      "Epoch 15/20\n",
      "1000/1000 [==============================] - 0s 36us/step - loss: 2.3013 - acc: 0.1120\n",
      "Epoch 16/20\n",
      "1000/1000 [==============================] - 0s 36us/step - loss: 2.2962 - acc: 0.1250\n",
      "Epoch 17/20\n",
      "1000/1000 [==============================] - 0s 35us/step - loss: 2.2976 - acc: 0.1110\n",
      "Epoch 18/20\n",
      "1000/1000 [==============================] - 0s 33us/step - loss: 2.2956 - acc: 0.1120\n",
      "Epoch 19/20\n",
      "1000/1000 [==============================] - 0s 27us/step - loss: 2.2980 - acc: 0.1010\n",
      "Epoch 20/20\n",
      "1000/1000 [==============================] - 0s 34us/step - loss: 2.2947 - acc: 0.1250\n"
     ]
    },
    {
     "data": {
      "text/plain": [
       "<keras.callbacks.History at 0x10c7d5b00>"
      ]
     },
     "execution_count": 16,
     "metadata": {},
     "output_type": "execute_result"
    }
   ],
   "source": [
    "model.fit(train_x, train_y,\n",
    "         epochs = 20,\n",
    "         batch_size = 128)"
   ]
  },
  {
   "cell_type": "markdown",
   "metadata": {},
   "source": [
    "#### Evaluate the model"
   ]
  },
  {
   "cell_type": "code",
   "execution_count": 19,
   "metadata": {},
   "outputs": [
    {
     "name": "stdout",
     "output_type": "stream",
     "text": [
      "\r",
      "100/100 [==============================] - 0s 692us/step\n"
     ]
    }
   ],
   "source": [
    "score = model.evaluate(test_x, test_y, batch_size=128)"
   ]
  },
  {
   "cell_type": "code",
   "execution_count": null,
   "metadata": {},
   "outputs": [],
   "source": []
  }
 ],
 "metadata": {
  "kernelspec": {
   "display_name": "Python 3",
   "language": "python",
   "name": "python3"
  },
  "language_info": {
   "codemirror_mode": {
    "name": "ipython",
    "version": 3
   },
   "file_extension": ".py",
   "mimetype": "text/x-python",
   "name": "python",
   "nbconvert_exporter": "python",
   "pygments_lexer": "ipython3",
   "version": "3.6.4"
  }
 },
 "nbformat": 4,
 "nbformat_minor": 2
}
