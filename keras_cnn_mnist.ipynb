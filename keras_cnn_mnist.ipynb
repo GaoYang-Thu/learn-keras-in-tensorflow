{
 "cells": [
  {
   "cell_type": "markdown",
   "metadata": {},
   "source": [
    "## Build a convolutional neural network (CNN) for MNIST using Keras\n",
    "Convolutional neural network (NN) of Keras on MNIST data\n",
    "* Author: Gao Yang  \n",
    "* Note:\n",
    "   * You could run this notebook on local CPU Macbook, but the convolution-heavy operations can be quite slow.\n",
    "   * 2 minutes per epoch on 2.4G Intel i5 CPU (Macbook Pro)\n",
    "   * After 12 epochs, test accuracy = 0.9912"
   ]
  },
  {
   "cell_type": "markdown",
   "metadata": {},
   "source": [
    "#### Setup the enviorment"
   ]
  },
  {
   "cell_type": "code",
   "execution_count": 18,
   "metadata": {},
   "outputs": [],
   "source": [
    "from __future__ import division, print_function\n",
    "import numpy as np\n",
    "import keras\n",
    "from keras.models import Sequential\n",
    "from keras.layers import Dense, Dropout, Flatten\n",
    "from keras.layers import Conv2D, MaxPooling2D\n",
    "from keras.optimizers import Adadelta\n",
    "from keras import backend as K"
   ]
  },
  {
   "cell_type": "markdown",
   "metadata": {},
   "source": [
    "#### Prepare MNIST dataset"
   ]
  },
  {
   "cell_type": "code",
   "execution_count": 11,
   "metadata": {},
   "outputs": [
    {
     "name": "stdout",
     "output_type": "stream",
     "text": [
      "Image data format of K: channels_last\n",
      "x_train shape: (60000, 28, 28, 1)\n",
      "Train sample number: 60000\n",
      "Test sample number: 10000\n"
     ]
    }
   ],
   "source": [
    "# ------ import MNIST from local mnist.npz -------\n",
    "import os\n",
    "def load_mnistdata(path_npz):\n",
    "    assert os.path.isfile(path_npz)\n",
    "    data = np.load(path_npz)\n",
    "    x_train, y_train = data['x_train'], data['y_train']\n",
    "    x_test, y_test = data['x_test'], data['y_test']\n",
    "    return (x_train,y_train),(x_test,y_test)\n",
    "\n",
    "path_npz = '/Users/Yang/Projects/keras-examples/mnist.npz'\n",
    "(x_train,y_train),(x_test,y_test) = load_mnistdata(path_npz)\n",
    "\n",
    "# size of each image in the dataset\n",
    "img_size_rows, img_size_cols = x_train.shape[1], x_train.shape[2]\n",
    "\n",
    "# ---- reshape the dataset according to the position of color channel required by the backend (K)\n",
    "\n",
    "if K.image_data_format() == 'channel_first':\n",
    "    x_train = x_train.reshape(x_train.shape[0],1,img_size_rows,img_size_cols)\n",
    "    x_test = x_test.reshape(x_test.shape[0],1,img_size_rows,img_size_cols)\n",
    "    input_shape = (1,img_size_rows,img_size_cols)\n",
    "else:\n",
    "    x_train = x_train.reshape(x_train.shape[0],img_size_rows,img_size_cols,1)\n",
    "    x_test = x_test.reshape(x_test.shape[0],img_size_rows,img_size_cols,1)\n",
    "    input_shape = (img_size_rows,img_size_cols,1)\n",
    "\n",
    "# set pixel value to [0,1]\n",
    "x_train = x_train.astype('float32')\n",
    "x_train /= 255\n",
    "x_test = x_test.astype('float32')\n",
    "x_test /= 255\n",
    "\n",
    "print('Image data format of K:',K.image_data_format())\n",
    "print('x_train shape:', x_train.shape)\n",
    "print('Train sample number: {}'.format(x_train.shape[0]))\n",
    "print('Test sample number: {}'.format(x_test.shape[0]))\n",
    "\n",
    "# convert labels to binary form\n",
    "num_classes = 10\n",
    "y_train = keras.utils.to_categorical(y_train, num_classes)\n",
    "y_test = keras.utils.to_categorical(y_test, num_classes)\n"
   ]
  },
  {
   "cell_type": "code",
   "execution_count": 7,
   "metadata": {},
   "outputs": [
    {
     "data": {
      "text/plain": [
       "(60000, 28, 28)"
      ]
     },
     "execution_count": 7,
     "metadata": {},
     "output_type": "execute_result"
    }
   ],
   "source": [
    "x_train.shape"
   ]
  },
  {
   "cell_type": "markdown",
   "metadata": {},
   "source": [
    "#### Setup the CNN model"
   ]
  },
  {
   "cell_type": "code",
   "execution_count": 12,
   "metadata": {},
   "outputs": [
    {
     "name": "stdout",
     "output_type": "stream",
     "text": [
      "_________________________________________________________________\n",
      "Layer (type)                 Output Shape              Param #   \n",
      "=================================================================\n",
      "conv2d_1 (Conv2D)            (None, 26, 26, 32)        320       \n",
      "_________________________________________________________________\n",
      "conv2d_2 (Conv2D)            (None, 24, 24, 32)        9248      \n",
      "_________________________________________________________________\n",
      "max_pooling2d_1 (MaxPooling2 (None, 12, 12, 32)        0         \n",
      "_________________________________________________________________\n",
      "dropout_1 (Dropout)          (None, 12, 12, 32)        0         \n",
      "_________________________________________________________________\n",
      "flatten_1 (Flatten)          (None, 4608)              0         \n",
      "_________________________________________________________________\n",
      "dense_1 (Dense)              (None, 128)               589952    \n",
      "_________________________________________________________________\n",
      "dropout_2 (Dropout)          (None, 128)               0         \n",
      "_________________________________________________________________\n",
      "dense_2 (Dense)              (None, 10)                1290      \n",
      "=================================================================\n",
      "Total params: 600,810\n",
      "Trainable params: 600,810\n",
      "Non-trainable params: 0\n",
      "_________________________________________________________________\n"
     ]
    }
   ],
   "source": [
    "model = Sequential()\n",
    "model.add(Conv2D(32, kernel_size=(3,3),\n",
    "                activation='relu',\n",
    "                input_shape=input_shape))\n",
    "model.add(Conv2D(32, kernel_size=(3,3),\n",
    "                activation='relu'))\n",
    "model.add(MaxPooling2D(pool_size=(2,2)))\n",
    "model.add(Dropout(0.2))\n",
    "model.add(Flatten())\n",
    "model.add(Dense(128, activation='relu'))\n",
    "model.add(Dropout(0.3))\n",
    "model.add(Dense(num_classes, activation='softmax'))\n",
    "\n",
    "model.summary()\n",
    "\n",
    "model.compile(loss='categorical_crossentropy',\n",
    "             optimizer='Adadelta',\n",
    "             metrics=['accuracy'])"
   ]
  },
  {
   "cell_type": "markdown",
   "metadata": {},
   "source": [
    "#### Train the model"
   ]
  },
  {
   "cell_type": "code",
   "execution_count": 15,
   "metadata": {},
   "outputs": [
    {
     "name": "stdout",
     "output_type": "stream",
     "text": [
      "Train on 60000 samples, validate on 10000 samples\n",
      "Epoch 1/12\n",
      "60000/60000 [==============================] - 142s 2ms/step - loss: 0.1472 - acc: 0.9558 - val_loss: 0.0692 - val_acc: 0.9778\n",
      "Epoch 2/12\n",
      "60000/60000 [==============================] - 119s 2ms/step - loss: 0.0697 - acc: 0.9788 - val_loss: 0.0373 - val_acc: 0.9875\n",
      "Epoch 3/12\n",
      "60000/60000 [==============================] - 116s 2ms/step - loss: 0.0536 - acc: 0.9830 - val_loss: 0.0371 - val_acc: 0.9879\n",
      "Epoch 4/12\n",
      "60000/60000 [==============================] - 115s 2ms/step - loss: 0.0437 - acc: 0.9861 - val_loss: 0.0307 - val_acc: 0.9897\n",
      "Epoch 5/12\n",
      "60000/60000 [==============================] - 116s 2ms/step - loss: 0.0358 - acc: 0.9884 - val_loss: 0.0285 - val_acc: 0.9905\n",
      "Epoch 6/12\n",
      "60000/60000 [==============================] - 117s 2ms/step - loss: 0.0309 - acc: 0.9902 - val_loss: 0.0313 - val_acc: 0.9904\n",
      "Epoch 7/12\n",
      "60000/60000 [==============================] - 118s 2ms/step - loss: 0.0282 - acc: 0.9910 - val_loss: 0.0344 - val_acc: 0.9890\n",
      "Epoch 8/12\n",
      "60000/60000 [==============================] - 117s 2ms/step - loss: 0.0245 - acc: 0.9922 - val_loss: 0.0278 - val_acc: 0.9911\n",
      "Epoch 9/12\n",
      "60000/60000 [==============================] - 122s 2ms/step - loss: 0.0214 - acc: 0.9931 - val_loss: 0.0270 - val_acc: 0.9909\n",
      "Epoch 10/12\n",
      "60000/60000 [==============================] - 126s 2ms/step - loss: 0.0193 - acc: 0.9936 - val_loss: 0.0276 - val_acc: 0.9916\n",
      "Epoch 11/12\n",
      "60000/60000 [==============================] - 117s 2ms/step - loss: 0.0187 - acc: 0.9940 - val_loss: 0.0275 - val_acc: 0.9909\n",
      "Epoch 12/12\n",
      "60000/60000 [==============================] - 116s 2ms/step - loss: 0.0161 - acc: 0.9946 - val_loss: 0.0297 - val_acc: 0.9912\n"
     ]
    },
    {
     "data": {
      "text/plain": [
       "<keras.callbacks.History at 0x13467f358>"
      ]
     },
     "execution_count": 15,
     "metadata": {},
     "output_type": "execute_result"
    }
   ],
   "source": [
    "num_epoch = 12\n",
    "batch_size = 128\n",
    "\n",
    "model.fit(x_train,y_train,\n",
    "          epochs=num_epoch,\n",
    "          verbose=1,\n",
    "          batch_size=batch_size,\n",
    "          validation_data=(x_test,y_test))"
   ]
  },
  {
   "cell_type": "markdown",
   "metadata": {},
   "source": [
    "#### Evaluate the model"
   ]
  },
  {
   "cell_type": "code",
   "execution_count": 17,
   "metadata": {},
   "outputs": [
    {
     "name": "stdout",
     "output_type": "stream",
     "text": [
      "10000/10000 [==============================] - 6s 556us/step\n",
      "Test Loss: 0.029685\n",
      "Test Accuracy: 0.991200\n"
     ]
    }
   ],
   "source": [
    "score = model.evaluate(x_test,y_test,verbose=1)\n",
    "print('Test Loss: {:.06f}'.format(score[0]))\n",
    "print('Test Accuracy: {:.06f}'.format(score[1]))"
   ]
  },
  {
   "cell_type": "code",
   "execution_count": null,
   "metadata": {},
   "outputs": [],
   "source": []
  }
 ],
 "metadata": {
  "kernelspec": {
   "display_name": "Python 3",
   "language": "python",
   "name": "python3"
  },
  "language_info": {
   "codemirror_mode": {
    "name": "ipython",
    "version": 3
   },
   "file_extension": ".py",
   "mimetype": "text/x-python",
   "name": "python",
   "nbconvert_exporter": "python",
   "pygments_lexer": "ipython3",
   "version": "3.6.4"
  }
 },
 "nbformat": 4,
 "nbformat_minor": 2
}
