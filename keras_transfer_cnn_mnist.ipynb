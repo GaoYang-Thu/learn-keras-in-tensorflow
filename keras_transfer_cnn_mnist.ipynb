{
 "cells": [
  {
   "cell_type": "markdown",
   "metadata": {},
   "source": [
    "## Transfer learning of CNN on MNIST dataset using Keras\n",
    "Build transfer learning by spliting MNIST dataset.   \n",
    "Train the entire cnn using first half of dataset, then fix the feature layers and fine-tune the classification layers using second half of the dataset.\n",
    "* Author: Gao Yang\n",
    "* Accuracy = 0.9938 for second half of test dataset after the transer learning"
   ]
  },
  {
   "cell_type": "markdown",
   "metadata": {},
   "source": [
    "#### Setup the keras enviorment"
   ]
  },
  {
   "cell_type": "code",
   "execution_count": 10,
   "metadata": {},
   "outputs": [],
   "source": [
    "from __future__ import division, print_function\n",
    "import datetime\n",
    "\n",
    "import keras\n",
    "from keras.models import Sequential\n",
    "from keras.layers import Conv2D, MaxPooling2D\n",
    "from keras.layers import Dense, Flatten, Dropout, Activation\n",
    "\n",
    "from keras import backend as K\n",
    "import numpy as np"
   ]
  },
  {
   "cell_type": "markdown",
   "metadata": {},
   "source": [
    "#### Prepare MNIST dataset"
   ]
  },
  {
   "cell_type": "code",
   "execution_count": 79,
   "metadata": {},
   "outputs": [],
   "source": [
    "# ------ import MNIST from local mnist.npz -------\n",
    "import os\n",
    "def load_mnistdata(path_npz):\n",
    "    assert os.path.isfile(path_npz)\n",
    "    data = np.load(path_npz)\n",
    "    x_train, y_train = data['x_train'], data['y_train']\n",
    "    x_test, y_test = data['x_test'], data['y_test']\n",
    "    return (x_train,y_train),(x_test,y_test)\n",
    "\n",
    "path_npz = '/Users/Yang/Projects/keras-examples/mnist.npz'\n",
    "(x_train,y_train),(x_test,y_test) = load_mnistdata(path_npz)\n",
    "\n",
    "# split the dataset\n",
    "x_train_lt5 = x_train[y_train<5]\n",
    "y_train_lt5 = y_train[y_train<5]\n",
    "x_test_lt5 = x_test[y_test<5]\n",
    "y_test_lt5 = y_test[y_test<5]\n",
    "\n",
    "x_train_gt5 = x_train[y_train>=5]\n",
    "y_train_gt5 = y_train[y_train>=5]-5 # back to [0,1,2,3,4]\n",
    "x_test_gt5 = x_test[y_test>=5]\n",
    "y_test_gt5 = y_test[y_test>=5]-5\n",
    "\n",
    "if K.image_data_format() == 'channel_first':\n",
    "    input_shape = (1, img_size_rows, img_size_cols)\n",
    "else:\n",
    "    input_shape = (img_size_rows, img_size_cols, 1)\n",
    "\n",
    "# reshape_data_for_cnn\n",
    "def reshape_x_cnn(dataset):    \n",
    "    img_size_rows, img_size_cols = dataset.shape[1], dataset.shape[2]\n",
    "    \n",
    "    dataset = dataset.reshape((dataset.shape[0],) + input_shape) # tuple + tuple = tuple\n",
    "    dataset = dataset.astype('float32')\n",
    "    dataset /= 255\n",
    "    return dataset\n",
    "\n",
    "\n",
    "def train_model(model, train_tuple, test_tuple, num_classes=5): # only 5 classes since we split the dataset in half\n",
    "    \n",
    "    # images\n",
    "    x_train = reshape_x_cnn(train_tuple[0])\n",
    "    x_test = reshape_x_cnn(test_tuple[0])\n",
    "    \n",
    "    print('x_train\\'s shape:', x_train.shape)\n",
    "    print('Train sample number: {}'.format(x_train.shape[0]))\n",
    "    print('Test sample number: {}'.format(x_test.shape[0]))\n",
    "\n",
    "    # labels\n",
    "    y_train = keras.utils.to_categorical(train_tuple[1], num_classes)\n",
    "    y_test = keras.utils.to_categorical(test_tuple[1], num_classes)\n",
    "\n",
    "    model.compile(loss='categorical_crossentropy',\n",
    "                 optimizer='adadelta',\n",
    "                 metrics=['accuracy'])\n",
    "    now = datetime.datetime.now\n",
    "    t = now()\n",
    "    # train\n",
    "    model.fit(x_train,y_train,\n",
    "             epochs=5,\n",
    "             batch_size=128,\n",
    "             verbose=1,\n",
    "             validation_data=(x_test,y_test))\n",
    "    \n",
    "    print('Training time: {}'.format(now()-t))\n",
    "    \n",
    "    # evaluate\n",
    "    score = model.evaluate(x_test,y_test,verbose=1)\n",
    "    print('Test loss: {:.06f}'.format(score[0]))\n",
    "    print('Test accuracy: {:.06f}'.format(score[1]))\n"
   ]
  },
  {
   "cell_type": "markdown",
   "metadata": {},
   "source": [
    "#### Setup two sets of layers"
   ]
  },
  {
   "cell_type": "code",
   "execution_count": 80,
   "metadata": {},
   "outputs": [
    {
     "name": "stdout",
     "output_type": "stream",
     "text": [
      "_________________________________________________________________\n",
      "Layer (type)                 Output Shape              Param #   \n",
      "=================================================================\n",
      "conv2d_25 (Conv2D)           (None, 26, 26, 32)        320       \n",
      "_________________________________________________________________\n",
      "conv2d_26 (Conv2D)           (None, 24, 24, 32)        9248      \n",
      "_________________________________________________________________\n",
      "max_pooling2d_13 (MaxPooling (None, 12, 12, 32)        0         \n",
      "_________________________________________________________________\n",
      "dropout_24 (Dropout)         (None, 12, 12, 32)        0         \n",
      "_________________________________________________________________\n",
      "flatten_13 (Flatten)         (None, 4608)              0         \n",
      "_________________________________________________________________\n",
      "dense_23 (Dense)             (None, 128)               589952    \n",
      "_________________________________________________________________\n",
      "dropout_25 (Dropout)         (None, 128)               0         \n",
      "_________________________________________________________________\n",
      "dense_24 (Dense)             (None, 5)                 645       \n",
      "=================================================================\n",
      "Total params: 600,165\n",
      "Trainable params: 600,165\n",
      "Non-trainable params: 0\n",
      "_________________________________________________________________\n"
     ]
    }
   ],
   "source": [
    "feature_layers = [\n",
    "    Conv2D(32, kernel_size=(3,3),\n",
    "           padding='valid',\n",
    "           activation='relu',\n",
    "           input_shape=input_shape),\n",
    "    Conv2D(32, kernel_size=(3,3), activation='relu'),\n",
    "    MaxPooling2D(pool_size=(2,2)),\n",
    "    Dropout(0.3),\n",
    "    Flatten(),\n",
    "]\n",
    "\n",
    "classification_layers = [\n",
    "    Dense(128, activation='relu'),\n",
    "    Dropout(0.3),\n",
    "    Dense(5, activation='softmax')\n",
    "]\n",
    "\n",
    "model = Sequential(feature_layers + classification_layers) # ... how simple\n",
    "\n",
    "model.summary()"
   ]
  },
  {
   "cell_type": "markdown",
   "metadata": {},
   "source": [
    "#### Train both the feature layers and classification layers for digits < 5"
   ]
  },
  {
   "cell_type": "code",
   "execution_count": 81,
   "metadata": {},
   "outputs": [
    {
     "name": "stdout",
     "output_type": "stream",
     "text": [
      "x_train's shape: (30596, 28, 28, 1)\n",
      "Train sample number: 30596\n",
      "Test sample number: 5139\n",
      "Train on 30596 samples, validate on 5139 samples\n",
      "Epoch 1/5\n",
      "30596/30596 [==============================] - 59s 2ms/step - loss: 0.1520 - acc: 0.9526 - val_loss: 0.0219 - val_acc: 0.9936\n",
      "Epoch 2/5\n",
      "30596/30596 [==============================] - 59s 2ms/step - loss: 0.0392 - acc: 0.9878 - val_loss: 0.0126 - val_acc: 0.9953\n",
      "Epoch 3/5\n",
      "30596/30596 [==============================] - 58s 2ms/step - loss: 0.0263 - acc: 0.9916 - val_loss: 0.0194 - val_acc: 0.9951\n",
      "Epoch 4/5\n",
      "30596/30596 [==============================] - 62s 2ms/step - loss: 0.0200 - acc: 0.9936 - val_loss: 0.0096 - val_acc: 0.9963\n",
      "Epoch 5/5\n",
      "30596/30596 [==============================] - 62s 2ms/step - loss: 0.0166 - acc: 0.9950 - val_loss: 0.0051 - val_acc: 0.9982\n",
      "Training time: 0:04:59.885455\n",
      "5139/5139 [==============================] - 3s 585us/step\n",
      "Test loss: 0.005113\n",
      "Test accuracy: 0.998249\n"
     ]
    }
   ],
   "source": [
    "train_model(model,\n",
    "            (x_train_lt5, y_train_lt5),\n",
    "            (x_test_lt5, y_test_lt5),\n",
    "            num_classes=5)"
   ]
  },
  {
   "cell_type": "markdown",
   "metadata": {},
   "source": [
    "#### Freeze the feature layers, then train the classification layers for digits >= 5"
   ]
  },
  {
   "cell_type": "code",
   "execution_count": 83,
   "metadata": {},
   "outputs": [
    {
     "name": "stdout",
     "output_type": "stream",
     "text": [
      "_________________________________________________________________\n",
      "Layer (type)                 Output Shape              Param #   \n",
      "=================================================================\n",
      "conv2d_25 (Conv2D)           (None, 26, 26, 32)        320       \n",
      "_________________________________________________________________\n",
      "conv2d_26 (Conv2D)           (None, 24, 24, 32)        9248      \n",
      "_________________________________________________________________\n",
      "max_pooling2d_13 (MaxPooling (None, 12, 12, 32)        0         \n",
      "_________________________________________________________________\n",
      "dropout_24 (Dropout)         (None, 12, 12, 32)        0         \n",
      "_________________________________________________________________\n",
      "flatten_13 (Flatten)         (None, 4608)              0         \n",
      "_________________________________________________________________\n",
      "dense_23 (Dense)             (None, 128)               589952    \n",
      "_________________________________________________________________\n",
      "dropout_25 (Dropout)         (None, 128)               0         \n",
      "_________________________________________________________________\n",
      "dense_24 (Dense)             (None, 5)                 645       \n",
      "=================================================================\n",
      "Total params: 600,165\n",
      "Trainable params: 590,597\n",
      "Non-trainable params: 9,568\n",
      "_________________________________________________________________\n"
     ]
    }
   ],
   "source": [
    "for layer in feature_layers:\n",
    "    layer.trainable = False\n",
    "\n",
    "model.summary() \n",
    "# check out \"trainable parameters\" and \"non-trainable parameters\"\n",
    "# non-trainable parameters: 320+9248=9568"
   ]
  },
  {
   "cell_type": "code",
   "execution_count": 82,
   "metadata": {},
   "outputs": [
    {
     "name": "stdout",
     "output_type": "stream",
     "text": [
      "x_train's shape: (29404, 28, 28, 1)\n",
      "Train sample number: 29404\n",
      "Test sample number: 4861\n",
      "Train on 29404 samples, validate on 4861 samples\n",
      "Epoch 1/5\n",
      "29404/29404 [==============================] - 25s 842us/step - loss: 0.2002 - acc: 0.9439 - val_loss: 0.0471 - val_acc: 0.9825\n",
      "Epoch 2/5\n",
      "29404/29404 [==============================] - 23s 780us/step - loss: 0.0625 - acc: 0.9798 - val_loss: 0.0335 - val_acc: 0.9901\n",
      "Epoch 3/5\n",
      "29404/29404 [==============================] - 21s 721us/step - loss: 0.0464 - acc: 0.9857 - val_loss: 0.0261 - val_acc: 0.9914\n",
      "Epoch 4/5\n",
      "29404/29404 [==============================] - 21s 729us/step - loss: 0.0395 - acc: 0.9867 - val_loss: 0.0229 - val_acc: 0.9936\n",
      "Epoch 5/5\n",
      "29404/29404 [==============================] - 21s 731us/step - loss: 0.0338 - acc: 0.9900 - val_loss: 0.0204 - val_acc: 0.9938\n",
      "Training time: 0:01:52.538439\n",
      "4861/4861 [==============================] - 3s 634us/step\n",
      "Test loss: 0.020362\n",
      "Test accuracy: 0.993828\n"
     ]
    }
   ],
   "source": [
    "train_model(model,\n",
    "           (x_train_gt5, y_train_gt5),\n",
    "           (x_test_gt5, y_test_gt5),\n",
    "           num_classes=5)"
   ]
  },
  {
   "cell_type": "code",
   "execution_count": null,
   "metadata": {},
   "outputs": [],
   "source": []
  }
 ],
 "metadata": {
  "kernelspec": {
   "display_name": "Python 3",
   "language": "python",
   "name": "python3"
  },
  "language_info": {
   "codemirror_mode": {
    "name": "ipython",
    "version": 3
   },
   "file_extension": ".py",
   "mimetype": "text/x-python",
   "name": "python",
   "nbconvert_exporter": "python",
   "pygments_lexer": "ipython3",
   "version": "3.6.4"
  }
 },
 "nbformat": 4,
 "nbformat_minor": 2
}
