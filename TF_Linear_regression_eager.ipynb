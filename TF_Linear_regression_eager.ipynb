{
 "cells": [
  {
   "cell_type": "markdown",
   "metadata": {},
   "source": [
    "## Linear regression in TensorFlow with eager mode"
   ]
  },
  {
   "cell_type": "markdown",
   "metadata": {},
   "source": [
    "A linear regression implemented using TensorFlow's Eager API\n",
    "* Author: Gao Yang"
   ]
  },
  {
   "cell_type": "markdown",
   "metadata": {},
   "source": [
    "#### Setup eager mode"
   ]
  },
  {
   "cell_type": "code",
   "execution_count": 1,
   "metadata": {},
   "outputs": [
    {
     "name": "stderr",
     "output_type": "stream",
     "text": [
      "/Users/Yang/anaconda3/lib/python3.6/site-packages/h5py/__init__.py:36: FutureWarning: Conversion of the second argument of issubdtype from `float` to `np.floating` is deprecated. In future, it will be treated as `np.float64 == np.dtype(float).type`.\n",
      "  from ._conv import register_converters as _register_converters\n"
     ]
    },
    {
     "name": "stdout",
     "output_type": "stream",
     "text": [
      "Enabling eager execution...\n",
      "Eager mode status: True\n"
     ]
    }
   ],
   "source": [
    "from __future__ import absolute_import, division, print_function\n",
    "\n",
    "import tensorflow as tf\n",
    "import tensorflow.contrib.eager as tfe\n",
    "import matplotlib.pyplot as plt\n",
    "import numpy as np\n",
    "\n",
    "print(\"Enabling eager execution...\")\n",
    "tfe.enable_eager_execution()\n",
    "print(\"Eager execution status: {}\".format(tf.executing_eagerly()))"
   ]
  },
  {
   "cell_type": "markdown",
   "metadata": {},
   "source": [
    "#### Creating training dataset"
   ]
  },
  {
   "cell_type": "code",
   "execution_count": 8,
   "metadata": {},
   "outputs": [
    {
     "name": "stdout",
     "output_type": "stream",
     "text": [
      "Training dataset is ready.\n"
     ]
    }
   ],
   "source": [
    "# train_x = [3.3, 4.4, 5.5, 6.81, 6.93, 4.20, 9.93, 6.28, 7.49, 2.17,\n",
    "#          7.04, 10.9]\n",
    "# train_y = [1.7, 2.76, 2.09, 3.18, 1.70, 1.90, 3.38, 2.60, 2.53, 1.22,\n",
    "#          2.82, 3.46]\n",
    "# --- this is Aymeric Damien's dataset, I am not satisfied with it----\n",
    "\n",
    "# I will generate my own training dataset using numpy, as follows:\n",
    "train_x = np.linspace(0, 20, 100)\n",
    "true_w = 5\n",
    "true_b = 10\n",
    "train_y = true_w * train_x + true_b\n",
    "train_y = train_y + np.random.randn(len(train_x)) * 20 # add Gauss noise\n",
    "\n",
    "print(\"Training dataset is ready.\")"
   ]
  },
  {
   "cell_type": "markdown",
   "metadata": {},
   "source": [
    "#### Create model"
   ]
  },
  {
   "cell_type": "code",
   "execution_count": 9,
   "metadata": {},
   "outputs": [],
   "source": [
    "num_samples = len(train_x)\n",
    "learning_rate = 0.01\n",
    "num_epoch = 2001\n",
    "\n",
    "# Put W and b outside of model to prevent model function from initializing W and b in every epoch\n",
    "# Initialize W and b\n",
    "W = tfe.Variable(np.random.randn())\n",
    "b = tfe.Variable(np.random.randn())\n",
    "\n",
    "def model(inputs):\n",
    "    \n",
    "    # model: linear regression\n",
    "    return inputs*W + b\n",
    "\n",
    "def loss(model, inputs, labels):\n",
    "    \n",
    "    # loss : mean square error\n",
    "    \n",
    "    return tf.reduce_sum(tf.pow((model(inputs) - labels), 2)) / (2 * num_samples)\n",
    "\n",
    "    # tf.reduce_sum : get sum\n",
    "    # tf.pow(x,y)   : get x.^y\n",
    "\n",
    "grad = tfe.implicit_gradients(loss)\n",
    "    \n",
    "# Stochastic Gradient Descent (SGD) optimizer\n",
    "optimizer = tf.train.GradientDescentOptimizer(learning_rate = learning_rate)\n",
    "\n"
   ]
  },
  {
   "cell_type": "markdown",
   "metadata": {},
   "source": [
    "#### Train the model\n"
   ]
  },
  {
   "cell_type": "code",
   "execution_count": 10,
   "metadata": {},
   "outputs": [
    {
     "name": "stdout",
     "output_type": "stream",
     "text": [
      "Initial loss: 965.604 W = 2.438246489 b = -0.762197971\n",
      "Epoch: 0000, W = 6.921221733, b = -0.398371428, loss = 305.607\n",
      "Epoch: 0050, W = 5.664506435, b = 0.852228045, loss = 211.352\n",
      "Epoch: 0100, W = 5.576405525, b = 2.030619383, loss = 208.559\n",
      "Epoch: 0150, W = 5.498760700, b = 3.069153070, loss = 206.390\n",
      "Epoch: 0200, W = 5.430331230, b = 3.984429598, loss = 204.705\n",
      "Epoch: 0250, W = 5.370023727, b = 4.791074753, loss = 203.396\n",
      "Epoch: 0300, W = 5.316872597, b = 5.501985073, loss = 202.380\n",
      "Epoch: 0350, W = 5.270030499, b = 6.128521919, loss = 201.590\n",
      "Epoch: 0400, W = 5.228747845, b = 6.680696964, loss = 200.977\n",
      "Epoch: 0450, W = 5.192364693, b = 7.167336941, loss = 200.501\n",
      "Epoch: 0500, W = 5.160299301, b = 7.596220493, loss = 200.131\n",
      "Epoch: 0550, W = 5.132040024, b = 7.974201679, loss = 199.843\n",
      "Epoch: 0600, W = 5.107134819, b = 8.307321548, loss = 199.620\n",
      "Epoch: 0650, W = 5.085185528, b = 8.600905418, loss = 199.447\n",
      "Epoch: 0700, W = 5.065841198, b = 8.859643936, loss = 199.312\n",
      "Epoch: 0750, W = 5.048792839, b = 9.087673187, loss = 199.208\n",
      "Epoch: 0800, W = 5.033767700, b = 9.288640976, loss = 199.126\n",
      "Epoch: 0850, W = 5.020525455, b = 9.465756416, loss = 199.063\n",
      "Epoch: 0900, W = 5.008855343, b = 9.621854782, loss = 199.014\n",
      "Epoch: 0950, W = 4.998569965, b = 9.759424210, loss = 198.976\n",
      "Epoch: 1000, W = 4.989505291, b = 9.880669594, loss = 198.947\n",
      "Epoch: 1050, W = 4.981516838, b = 9.987521172, loss = 198.924\n",
      "Epoch: 1100, W = 4.974476337, b = 10.081690788, loss = 198.906\n",
      "Epoch: 1150, W = 4.968271255, b = 10.164685249, loss = 198.892\n",
      "Epoch: 1200, W = 4.962802887, b = 10.237827301, loss = 198.881\n",
      "Epoch: 1250, W = 4.957983494, b = 10.302289963, loss = 198.873\n",
      "Epoch: 1300, W = 4.953735828, b = 10.359099388, loss = 198.866\n",
      "Epoch: 1350, W = 4.949992657, b = 10.409169197, loss = 198.861\n",
      "Epoch: 1400, W = 4.946693420, b = 10.453296661, loss = 198.857\n",
      "Epoch: 1450, W = 4.943785667, b = 10.492190361, loss = 198.854\n",
      "Epoch: 1500, W = 4.941223145, b = 10.526464462, loss = 198.852\n",
      "Epoch: 1550, W = 4.938964367, b = 10.556672096, loss = 198.850\n",
      "Epoch: 1600, W = 4.936974525, b = 10.583292961, loss = 198.849\n",
      "Epoch: 1650, W = 4.935220242, b = 10.606755257, loss = 198.848\n",
      "Epoch: 1700, W = 4.933674335, b = 10.627432823, loss = 198.847\n",
      "Epoch: 1750, W = 4.932312012, b = 10.645652771, loss = 198.846\n",
      "Epoch: 1800, W = 4.931111336, b = 10.661713600, loss = 198.846\n",
      "Epoch: 1850, W = 4.930052757, b = 10.675869942, loss = 198.845\n",
      "Epoch: 1900, W = 4.929120541, b = 10.688344002, loss = 198.845\n",
      "Epoch: 1950, W = 4.928297997, b = 10.699338913, loss = 198.845\n",
      "Epoch: 2000, W = 4.927574158, b = 10.709026337, loss = 198.845\n",
      "\n",
      "\n",
      "        True W = 5.000000000, b = 10.000000000\n"
     ]
    }
   ],
   "source": [
    "# initial loss\n",
    "\n",
    "train_loss = []\n",
    "\n",
    "print(\"Initial loss: {:.3f}\".format(loss(model,train_x,train_y)),\n",
    "     \"W = {:.9f}\".format(W.numpy()),\n",
    "     \"b = {:.9f}\".format(b.numpy()))\n",
    "      \n",
    "for epoch in range(num_epoch):\n",
    "    \n",
    "    # ------ CORE code for linear regression --------- \n",
    "    optimizer.apply_gradients(grad(model,train_x,train_y))\n",
    "    \n",
    "    # store loss in a list for future visualization\n",
    "    train_loss.append(loss(model, train_x, train_y))\n",
    "    \n",
    "    # output loss, W and b\n",
    "    if epoch % 50 == 0:\n",
    "        print(\"Epoch: {:04d}, W = {:.9f}, b = {:.9f}, loss = {:.3f}\".format(epoch,\n",
    "                                                                           W.numpy(),\n",
    "                                                                           b.numpy(),\n",
    "                                                                           loss(model, train_x, train_y)))\n",
    "\n",
    "print('\\n')\n",
    "print(\"        True W = {:.9f}, b = {:.9f}\".format(true_w, true_b))\n",
    "    "
   ]
  },
  {
   "cell_type": "markdown",
   "metadata": {},
   "source": [
    "#### Draw dataset points and regression line"
   ]
  },
  {
   "cell_type": "code",
   "execution_count": 11,
   "metadata": {},
   "outputs": [
    {
     "data": {
      "image/png": "[encoded data removed]",
      "text/plain": [
       "<Figure size 432x288 with 1 Axes>"
      ]
     },
     "metadata": {},
     "output_type": "display_data"
    },
    {
     "data": {
      "image/png": "[encoded data removed]",
      "text/plain": [
       "<Figure size 432x288 with 1 Axes>"
      ]
     },
     "metadata": {},
     "output_type": "display_data"
    }
   ],
   "source": [
    "plt.plot(train_x, train_y, 'ro', label = 'Original data')\n",
    "plt.plot(train_x, np.array(model(train_x)), 'k', label = 'Fitted line')\n",
    "plt.title('Original Data and Regression Line')\n",
    "plt.legend()\n",
    "plt.xlabel('X'),plt.ylabel('Y')\n",
    "plt.show()\n",
    "\n",
    "plt.plot(train_loss,'k')\n",
    "plt.title('Loss')\n",
    "plt.xlabel('Epoch'), plt.ylabel('Loss')\n",
    "plt.show()"
   ]
  },
  {
   "cell_type": "code",
   "execution_count": null,
   "metadata": {},
   "outputs": [],
   "source": []
  }
 ],
 "metadata": {
  "kernelspec": {
   "display_name": "Python 3",
   "language": "python",
   "name": "python3"
  },
  "language_info": {
   "codemirror_mode": {
    "name": "ipython",
    "version": 3
   },
   "file_extension": ".py",
   "mimetype": "text/x-python",
   "name": "python",
   "nbconvert_exporter": "python",
   "pygments_lexer": "ipython3",
   "version": "3.6.4"
  }
 },
 "nbformat": 4,
 "nbformat_minor": 2
}
