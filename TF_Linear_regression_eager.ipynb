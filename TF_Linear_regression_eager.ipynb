{
 "cells": [
  {
   "cell_type": "markdown",
   "metadata": {},
   "source": [
    "## Linear regression in TensorFlow with eager mode"
   ]
  },
  {
   "cell_type": "markdown",
   "metadata": {},
   "source": [
    "A linear regression implemented using TensorFlow's Eager API\n",
    "* Author: Gao Yang"
   ]
  },
  {
   "cell_type": "markdown",
   "metadata": {},
   "source": [
    "#### Setup eager mode"
   ]
  },
  {
   "cell_type": "code",
   "execution_count": 1,
   "metadata": {},
   "outputs": [
    {
     "name": "stderr",
     "output_type": "stream",
     "text": [
      "/Users/Yang/anaconda3/lib/python3.6/site-packages/h5py/__init__.py:36: FutureWarning: Conversion of the second argument of issubdtype from `float` to `np.floating` is deprecated. In future, it will be treated as `np.float64 == np.dtype(float).type`.\n",
      "  from ._conv import register_converters as _register_converters\n"
     ]
    },
    {
     "name": "stdout",
     "output_type": "stream",
     "text": [
      "Enabling eager execution...\n",
      "Eager execution status: True\n"
     ]
    }
   ],
   "source": [
    "from __future__ import absolute_import, division, print_function\n",
    "\n",
    "import tensorflow as tf\n",
    "import tensorflow.contrib.eager as tfe\n",
    "import matplotlib.pyplot as plt\n",
    "import numpy as np\n",
    "\n",
    "print(\"Enabling eager execution...\")\n",
    "tfe.enable_eager_execution()\n",
    "print(\"Eager execution status: {}\".format(tf.executing_eagerly()))"
   ]
  },
  {
   "cell_type": "markdown",
   "metadata": {},
   "source": [
    "#### Creating training dataset"
   ]
  },
  {
   "cell_type": "code",
   "execution_count": 2,
   "metadata": {},
   "outputs": [
    {
     "name": "stdout",
     "output_type": "stream",
     "text": [
      "Training dataset is ready.\n"
     ]
    }
   ],
   "source": [
    "# train_x = [3.3, 4.4, 5.5, 6.81, 6.93, 4.20, 9.93, 6.28, 7.49, 2.17,\n",
    "#          7.04, 10.9]\n",
    "# train_y = [1.7, 2.76, 2.09, 3.18, 1.70, 1.90, 3.38, 2.60, 2.53, 1.22,\n",
    "#          2.82, 3.46]\n",
    "# --- this is Aymeric Damien's dataset, and I am not satisfied with it----\n",
    "\n",
    "# --- I will generate my own training dataset using numpy, as follows:\n",
    "train_x = np.linspace(0, 20, 100)\n",
    "true_w = 5\n",
    "true_b = 10\n",
    "train_y = true_w * train_x + true_b\n",
    "train_y = train_y + np.random.randn(len(train_x)) * 20 # add Gauss noise\n",
    "\n",
    "print(\"Training dataset is ready.\")"
   ]
  },
  {
   "cell_type": "markdown",
   "metadata": {},
   "source": [
    "#### Create model"
   ]
  },
  {
   "cell_type": "code",
   "execution_count": 3,
   "metadata": {},
   "outputs": [],
   "source": [
    "num_samples = len(train_x)\n",
    "learning_rate = 0.01\n",
    "num_epoch = 2001\n",
    "\n",
    "# Put W and b outside of model to prevent model function from initializing W and b in every epoch\n",
    "# Initialize W and b\n",
    "W = tfe.Variable(np.random.randn())\n",
    "b = tfe.Variable(np.random.randn())\n",
    "\n",
    "def model(inputs):\n",
    "    \n",
    "    # model: linear regression\n",
    "    return inputs*W + b\n",
    "\n",
    "def loss(model, inputs, labels):\n",
    "    \n",
    "    # loss : mean square error\n",
    "    \n",
    "    return tf.reduce_sum(tf.pow((model(inputs) - labels), 2)) / (2 * num_samples)\n",
    "\n",
    "    # tf.reduce_sum : get sum\n",
    "    # tf.pow(x,y)   : get x.^y\n",
    "\n",
    "grad = tfe.implicit_gradients(loss)\n",
    "    \n",
    "# Stochastic Gradient Descent (SGD) optimizer\n",
    "optimizer = tf.train.GradientDescentOptimizer(learning_rate = learning_rate)\n",
    "\n"
   ]
  },
  {
   "cell_type": "markdown",
   "metadata": {},
   "source": [
    "#### Train the model\n"
   ]
  },
  {
   "cell_type": "code",
   "execution_count": 4,
   "metadata": {},
   "outputs": [
    {
     "name": "stdout",
     "output_type": "stream",
     "text": [
      "Initial loss: 2977.470 W = -0.538967907 b = -0.799021125\n",
      "Epoch: 0000, W = 8.065729141, b = -0.132027447, loss = 547.499\n",
      "Epoch: 0050, W = 5.763480663, b = 0.806368530, loss = 211.224\n",
      "Epoch: 0100, W = 5.690714836, b = 1.779647231, loss = 209.319\n",
      "Epoch: 0150, W = 5.626584530, b = 2.637413263, loss = 207.839\n",
      "Epoch: 0200, W = 5.570065975, b = 3.393373966, loss = 206.689\n",
      "Epoch: 0250, W = 5.520255089, b = 4.059614658, loss = 205.797\n",
      "Epoch: 0300, W = 5.476356506, b = 4.646782398, loss = 205.103\n",
      "Epoch: 0350, W = 5.437667370, b = 5.164261818, loss = 204.565\n",
      "Epoch: 0400, W = 5.403570652, b = 5.620325089, loss = 204.146\n",
      "Epoch: 0450, W = 5.373520374, b = 6.022259712, loss = 203.821\n",
      "Epoch: 0500, W = 5.347036839, b = 6.376492023, loss = 203.569\n",
      "Epoch: 0550, W = 5.323695660, b = 6.688682079, loss = 203.373\n",
      "Epoch: 0600, W = 5.303125381, b = 6.963820934, loss = 203.221\n",
      "Epoch: 0650, W = 5.284996033, b = 7.206304073, loss = 203.102\n",
      "Epoch: 0700, W = 5.269019127, b = 7.420008183, loss = 203.011\n",
      "Epoch: 0750, W = 5.254938126, b = 7.608347893, loss = 202.939\n",
      "Epoch: 0800, W = 5.242527962, b = 7.774335384, loss = 202.884\n",
      "Epoch: 0850, W = 5.231591225, b = 7.920622349, loss = 202.841\n",
      "Epoch: 0900, W = 5.221951962, b = 8.049549103, loss = 202.807\n",
      "Epoch: 0950, W = 5.213457108, b = 8.163171768, loss = 202.781\n",
      "Epoch: 1000, W = 5.205970764, b = 8.263311386, loss = 202.761\n",
      "Epoch: 1050, W = 5.199372292, b = 8.351566315, loss = 202.746\n",
      "Epoch: 1100, W = 5.193557262, b = 8.429344177, loss = 202.733\n",
      "Epoch: 1150, W = 5.188432217, b = 8.497890472, loss = 202.724\n",
      "Epoch: 1200, W = 5.183916092, b = 8.558300972, loss = 202.717\n",
      "Epoch: 1250, W = 5.179935455, b = 8.611541748, loss = 202.711\n",
      "Epoch: 1300, W = 5.176426888, b = 8.658466339, loss = 202.707\n",
      "Epoch: 1350, W = 5.173335552, b = 8.699820518, loss = 202.703\n",
      "Epoch: 1400, W = 5.170610428, b = 8.736264229, loss = 202.700\n",
      "Epoch: 1450, W = 5.168209076, b = 8.768385887, loss = 202.698\n",
      "Epoch: 1500, W = 5.166092396, b = 8.796696663, loss = 202.697\n",
      "Epoch: 1550, W = 5.164227486, b = 8.821643829, loss = 202.695\n",
      "Epoch: 1600, W = 5.162583351, b = 8.843630791, loss = 202.694\n",
      "Epoch: 1650, W = 5.161134720, b = 8.863013268, loss = 202.694\n",
      "Epoch: 1700, W = 5.159857750, b = 8.880090714, loss = 202.693\n",
      "Epoch: 1750, W = 5.158732414, b = 8.895141602, loss = 202.693\n",
      "Epoch: 1800, W = 5.157740593, b = 8.908406258, loss = 202.692\n",
      "Epoch: 1850, W = 5.156866550, b = 8.920095444, loss = 202.692\n",
      "Epoch: 1900, W = 5.156095982, b = 8.930399895, loss = 202.692\n",
      "Epoch: 1950, W = 5.155417442, b = 8.939476967, loss = 202.692\n",
      "Epoch: 2000, W = 5.154819489, b = 8.947480202, loss = 202.692\n",
      "\n",
      "\n",
      "        True W = 5.000000000, b = 10.000000000\n"
     ]
    }
   ],
   "source": [
    "# initial loss\n",
    "\n",
    "train_loss = []\n",
    "\n",
    "print(\"Initial loss: {:.3f}\".format(loss(model,train_x,train_y)),\n",
    "     \"W = {:.9f}\".format(W.numpy()),\n",
    "     \"b = {:.9f}\".format(b.numpy()))\n",
    "      \n",
    "for epoch in range(num_epoch):\n",
    "    \n",
    "    # ------ CORE code for linear regression --------- \n",
    "    optimizer.apply_gradients(grad(model,train_x,train_y))\n",
    "    \n",
    "    # store loss in a list for future visualization\n",
    "    train_loss.append(loss(model, train_x, train_y))\n",
    "    \n",
    "    # output loss, W and b\n",
    "    if epoch % 50 == 0:\n",
    "        print(\"Epoch: {:04d}, W = {:.9f}, b = {:.9f}, loss = {:.3f}\".format(epoch,\n",
    "                                                                           W.numpy(),\n",
    "                                                                           b.numpy(),\n",
    "                                                                           loss(model, train_x, train_y)))\n",
    "\n",
    "print('\\n')\n",
    "print(\"        True W = {:.9f}, b = {:.9f}\".format(true_w, true_b))\n",
    "    "
   ]
  },
  {
   "cell_type": "markdown",
   "metadata": {},
   "source": [
    "#### Draw dataset points and regression line"
   ]
  },
  {
   "cell_type": "code",
   "execution_count": 5,
   "metadata": {},
   "outputs": [
    {
     "data": {
      "image/png": "[encoded data removed]",
      "text/plain": [
       "<Figure size 432x288 with 1 Axes>"
      ]
     },
     "metadata": {},
     "output_type": "display_data"
    },
    {
     "data": {
      "image/png": "[encoded data removed]",
      "text/plain": [
       "<Figure size 432x288 with 1 Axes>"
      ]
     },
     "metadata": {},
     "output_type": "display_data"
    }
   ],
   "source": [
    "plt.plot(train_x, train_y, 'ro', label = 'Original data')\n",
    "plt.plot(train_x, np.array(model(train_x)), 'k', label = 'Fitted line')\n",
    "plt.title('Original Data and Regression Line')\n",
    "plt.legend()\n",
    "plt.xlabel('X'),plt.ylabel('Y')\n",
    "plt.show()\n",
    "\n",
    "plt.plot(train_loss,'k')\n",
    "plt.title('Loss')\n",
    "plt.xlabel('Epoch'), plt.ylabel('Loss')\n",
    "plt.show()"
   ]
  },
  {
   "cell_type": "code",
   "execution_count": null,
   "metadata": {},
   "outputs": [],
   "source": []
  }
 ],
 "metadata": {
  "kernelspec": {
   "display_name": "Python 3",
   "language": "python",
   "name": "python3"
  },
  "language_info": {
   "codemirror_mode": {
    "name": "ipython",
    "version": 3
   },
   "file_extension": ".py",
   "mimetype": "text/x-python",
   "name": "python",
   "nbconvert_exporter": "python",
   "pygments_lexer": "ipython3",
   "version": "3.6.4"
  }
 },
 "nbformat": 4,
 "nbformat_minor": 2
}
