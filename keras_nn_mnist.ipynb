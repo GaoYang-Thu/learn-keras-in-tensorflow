{
 "cells": [
  {
   "cell_type": "markdown",
   "metadata": {},
   "source": [
    "## NN of mnist using Keras\n",
    "Simple neural network (NN) of Keras on MNIST data\n",
    "* Author: Gao Yang"
   ]
  },
  {
   "cell_type": "code",
   "execution_count": 6,
   "metadata": {},
   "outputs": [],
   "source": [
    "from __future__ import print_function\n",
    "import keras\n",
    "import numpy as np\n",
    "from keras.layers import Dense, Dropout\n",
    "from keras.models import Sequential\n",
    "from keras.optimizers import RMSprop"
   ]
  },
  {
   "cell_type": "markdown",
   "metadata": {},
   "source": [
    "#### Prepare MNIST dataset\n"
   ]
  },
  {
   "cell_type": "code",
   "execution_count": 8,
   "metadata": {},
   "outputs": [],
   "source": [
    "# Operation time out. Cannot connect to online mnist dataset.\n",
    "# from keras.datasets import mnist\n",
    "# (x_train,y_train),(x_test,y_test) = mnist.load_data()\n",
    "\n",
    "# ------ import MNIST from local mnist.npz -------\n",
    "import os\n",
    "def load_mnistdata(path_npz):\n",
    "    assert os.path.isfile(path_npz)\n",
    "    data = np.load(path_npz)\n",
    "    x_train, y_train = data['x_train'], data['y_train']\n",
    "    x_test, y_test = data['x_test'], data['y_test']\n",
    "    return (x_train,y_train),(x_test,y_test)\n",
    "\n",
    "path_npz = '/Users/Yang/Projects/keras-examples/mnist.npz'\n",
    "(x_train,y_train),(x_test,y_test) = load_mnistdata(path_npz)\n",
    "\n",
    "# set pixel value to [0,1]\n",
    "x_train = x_train.reshape(60000,784)\n",
    "x_train = x_train.astype('float32')\n",
    "x_train /= 255\n",
    "\n",
    "x_test = x_test.reshape(10000,784)\n",
    "x_test = x_test.astype('float32')\n",
    "x_test /= 255\n",
    "\n",
    "# convert labels to binary form\n",
    "num_classes = 10\n",
    "y_train = keras.utils.to_categorical(y_train, num_classes)\n",
    "y_test = keras.utils.to_categorical(y_test, num_classes)\n"
   ]
  },
  {
   "cell_type": "markdown",
   "metadata": {},
   "source": [
    "#### Setup the model"
   ]
  },
  {
   "cell_type": "code",
   "execution_count": 12,
   "metadata": {},
   "outputs": [
    {
     "name": "stdout",
     "output_type": "stream",
     "text": [
      "_________________________________________________________________\n",
      "Layer (type)                 Output Shape              Param #   \n",
      "=================================================================\n",
      "dense_10 (Dense)             (None, 512)               401920    \n",
      "_________________________________________________________________\n",
      "dropout_7 (Dropout)          (None, 512)               0         \n",
      "_________________________________________________________________\n",
      "dense_11 (Dense)             (None, 512)               262656    \n",
      "_________________________________________________________________\n",
      "dropout_8 (Dropout)          (None, 512)               0         \n",
      "_________________________________________________________________\n",
      "dense_12 (Dense)             (None, 10)                5130      \n",
      "=================================================================\n",
      "Total params: 669,706\n",
      "Trainable params: 669,706\n",
      "Non-trainable params: 0\n",
      "_________________________________________________________________\n"
     ]
    }
   ],
   "source": [
    "model = Sequential()\n",
    "model.add(Dense(512, activation='relu', input_shape=(784,)))\n",
    "model.add(Dropout(0.2))\n",
    "model.add(Dense(512, activation='relu'))\n",
    "model.add(Dropout(0.2))\n",
    "model.add(Dense(num_classes, activation='softmax'))\n",
    "\n",
    "model.summary() # print out summary of the model\n",
    "\n",
    "model.compile(optimizer='RMSprop',\n",
    "             loss='categorical_crossentropy',\n",
    "             metrics=['accuracy'])"
   ]
  },
  {
   "cell_type": "markdown",
   "metadata": {},
   "source": [
    "#### Train the model"
   ]
  },
  {
   "cell_type": "code",
   "execution_count": 13,
   "metadata": {},
   "outputs": [
    {
     "name": "stdout",
     "output_type": "stream",
     "text": [
      "Train on 60000 samples, validate on 10000 samples\n",
      "Epoch 1/20\n",
      "60000/60000 [==============================] - 9s 152us/step - loss: 0.2516 - acc: 0.9231 - val_loss: 0.1051 - val_acc: 0.9670\n",
      "Epoch 2/20\n",
      "60000/60000 [==============================] - 9s 157us/step - loss: 0.1040 - acc: 0.9683 - val_loss: 0.0957 - val_acc: 0.9721\n",
      "Epoch 3/20\n",
      "60000/60000 [==============================] - 9s 149us/step - loss: 0.0761 - acc: 0.9771 - val_loss: 0.0794 - val_acc: 0.9779\n",
      "Epoch 4/20\n",
      "60000/60000 [==============================] - 10s 161us/step - loss: 0.0614 - acc: 0.9812 - val_loss: 0.0757 - val_acc: 0.9800\n",
      "Epoch 5/20\n",
      "60000/60000 [==============================] - 9s 152us/step - loss: 0.0507 - acc: 0.9850 - val_loss: 0.0855 - val_acc: 0.9775\n",
      "Epoch 6/20\n",
      "60000/60000 [==============================] - 9s 154us/step - loss: 0.0444 - acc: 0.9866 - val_loss: 0.0731 - val_acc: 0.9840\n",
      "Epoch 7/20\n",
      "60000/60000 [==============================] - 9s 154us/step - loss: 0.0372 - acc: 0.9891 - val_loss: 0.0791 - val_acc: 0.9823\n",
      "Epoch 8/20\n",
      "60000/60000 [==============================] - 9s 156us/step - loss: 0.0358 - acc: 0.9896 - val_loss: 0.0755 - val_acc: 0.9817\n",
      "Epoch 9/20\n",
      "60000/60000 [==============================] - 10s 164us/step - loss: 0.0333 - acc: 0.9907 - val_loss: 0.0895 - val_acc: 0.9824\n",
      "Epoch 10/20\n",
      "60000/60000 [==============================] - 10s 169us/step - loss: 0.0283 - acc: 0.9918 - val_loss: 0.0942 - val_acc: 0.9798\n",
      "Epoch 11/20\n",
      "60000/60000 [==============================] - 9s 154us/step - loss: 0.0258 - acc: 0.9923 - val_loss: 0.1039 - val_acc: 0.9818\n",
      "Epoch 12/20\n",
      "60000/60000 [==============================] - 11s 179us/step - loss: 0.0247 - acc: 0.9933 - val_loss: 0.0909 - val_acc: 0.9832\n",
      "Epoch 13/20\n",
      "60000/60000 [==============================] - 10s 174us/step - loss: 0.0240 - acc: 0.9931 - val_loss: 0.0886 - val_acc: 0.9849\n",
      "Epoch 14/20\n",
      "60000/60000 [==============================] - 9s 156us/step - loss: 0.0232 - acc: 0.9939 - val_loss: 0.1174 - val_acc: 0.9805\n",
      "Epoch 15/20\n",
      "60000/60000 [==============================] - 9s 157us/step - loss: 0.0218 - acc: 0.9942 - val_loss: 0.0892 - val_acc: 0.9842\n",
      "Epoch 16/20\n",
      "60000/60000 [==============================] - 10s 163us/step - loss: 0.0208 - acc: 0.9946 - val_loss: 0.1078 - val_acc: 0.9832\n",
      "Epoch 17/20\n",
      "60000/60000 [==============================] - 11s 175us/step - loss: 0.0192 - acc: 0.9950 - val_loss: 0.0941 - val_acc: 0.9847\n",
      "Epoch 18/20\n",
      "60000/60000 [==============================] - 9s 154us/step - loss: 0.0195 - acc: 0.9949 - val_loss: 0.1071 - val_acc: 0.9819\n",
      "Epoch 19/20\n",
      "60000/60000 [==============================] - 10s 169us/step - loss: 0.0181 - acc: 0.9952 - val_loss: 0.1032 - val_acc: 0.9836\n",
      "Epoch 20/20\n",
      "60000/60000 [==============================] - 10s 163us/step - loss: 0.0160 - acc: 0.9955 - val_loss: 0.1179 - val_acc: 0.9823\n"
     ]
    }
   ],
   "source": [
    "num_epoch = 20\n",
    "batch_size = 128\n",
    "\n",
    "history = model.fit(x_train, y_train,\n",
    "                   epochs=num_epoch,\n",
    "                   verbose = 1,\n",
    "                   batch_size=batch_size,\n",
    "                   validation_data=(x_test,y_test))"
   ]
  },
  {
   "cell_type": "markdown",
   "metadata": {},
   "source": [
    "#### Evaluate the model"
   ]
  },
  {
   "cell_type": "code",
   "execution_count": 15,
   "metadata": {},
   "outputs": [
    {
     "name": "stdout",
     "output_type": "stream",
     "text": [
      "Test Loss: 0.117860\n",
      "Test Accuracy: 0.982300\n"
     ]
    }
   ],
   "source": [
    "score = model.evaluate(x_test,y_test,verbose=0)\n",
    "print('Test Loss: {:.06f}'.format(score[0]))\n",
    "print('Test Accuracy: {:.06f}'.format(score[1]))"
   ]
  },
  {
   "cell_type": "code",
   "execution_count": null,
   "metadata": {},
   "outputs": [],
   "source": []
  }
 ],
 "metadata": {
  "kernelspec": {
   "display_name": "Python 3",
   "language": "python",
   "name": "python3"
  },
  "language_info": {
   "codemirror_mode": {
    "name": "ipython",
    "version": 3
   },
   "file_extension": ".py",
   "mimetype": "text/x-python",
   "name": "python",
   "nbconvert_exporter": "python",
   "pygments_lexer": "ipython3",
   "version": "3.6.4"
  }
 },
 "nbformat": 4,
 "nbformat_minor": 2
}
